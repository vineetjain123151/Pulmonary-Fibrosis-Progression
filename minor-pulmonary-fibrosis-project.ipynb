{
 "cells": [
  {
   "cell_type": "markdown",
   "metadata": {
    "papermill": {
     "duration": 0.056265,
     "end_time": "2020-12-05T12:33:08.594174",
     "exception": false,
     "start_time": "2020-12-05T12:33:08.537909",
     "status": "completed"
    },
    "tags": []
   },
   "source": [
    "# Imports"
   ]
  },
  {
   "cell_type": "code",
   "execution_count": 1,
   "metadata": {
    "_kg_hide-output": true,
    "execution": {
     "iopub.execute_input": "2020-12-05T12:33:08.710682Z",
     "iopub.status.busy": "2020-12-05T12:33:08.709822Z",
     "iopub.status.idle": "2020-12-05T12:33:27.933402Z",
     "shell.execute_reply": "2020-12-05T12:33:27.932512Z"
    },
    "papermill": {
     "duration": 19.285029,
     "end_time": "2020-12-05T12:33:27.933521",
     "exception": false,
     "start_time": "2020-12-05T12:33:08.648492",
     "status": "completed"
    },
    "tags": []
   },
   "outputs": [
    {
     "name": "stdout",
     "output_type": "stream",
     "text": [
      "Looking in links: ./\r\n",
      "Processing /kaggle/input/kerasapplications/keras-team-keras-applications-3b180cb\r\n",
      "Requirement already satisfied: numpy>=1.9.1 in /opt/conda/lib/python3.7/site-packages (from Keras-Applications==1.0.8) (1.18.5)\r\n",
      "Requirement already satisfied: h5py in /opt/conda/lib/python3.7/site-packages (from Keras-Applications==1.0.8) (2.10.0)\r\n",
      "Requirement already satisfied: six in /opt/conda/lib/python3.7/site-packages (from h5py->Keras-Applications==1.0.8) (1.14.0)\r\n",
      "Building wheels for collected packages: Keras-Applications\r\n",
      "  Building wheel for Keras-Applications (setup.py) ... \u001b[?25l-\b \b\\\b \bdone\r\n",
      "\u001b[?25h  Created wheel for Keras-Applications: filename=Keras_Applications-1.0.8-py3-none-any.whl size=50704 sha256=6a27a88f1abec0b7a8fc7e41979c88d49cfdfedeb0082707b0e795c9a752b428\r\n",
      "  Stored in directory: /root/.cache/pip/wheels/f4/96/13/eccdd9391bd8df958d78851b98ec4dc207ba05b67b011eb70a\r\n",
      "Successfully built Keras-Applications\r\n",
      "Installing collected packages: Keras-Applications\r\n",
      "Successfully installed Keras-Applications-1.0.8\r\n",
      "Looking in links: ./\r\n",
      "Processing /kaggle/input/efficientnet/efficientnet-1.1.0\r\n",
      "Requirement already satisfied: keras_applications<=1.0.8,>=1.0.7 in /opt/conda/lib/python3.7/site-packages (from efficientnet==1.1.0) (1.0.8)\r\n",
      "Requirement already satisfied: scikit-image in /opt/conda/lib/python3.7/site-packages (from efficientnet==1.1.0) (0.16.2)\r\n",
      "Requirement already satisfied: h5py in /opt/conda/lib/python3.7/site-packages (from keras_applications<=1.0.8,>=1.0.7->efficientnet==1.1.0) (2.10.0)\r\n",
      "Requirement already satisfied: numpy>=1.9.1 in /opt/conda/lib/python3.7/site-packages (from keras_applications<=1.0.8,>=1.0.7->efficientnet==1.1.0) (1.18.5)\r\n",
      "Requirement already satisfied: scipy>=0.19.0 in /opt/conda/lib/python3.7/site-packages (from scikit-image->efficientnet==1.1.0) (1.4.1)\r\n",
      "Requirement already satisfied: matplotlib!=3.0.0,>=2.0.0 in /opt/conda/lib/python3.7/site-packages (from scikit-image->efficientnet==1.1.0) (3.2.1)\r\n",
      "Requirement already satisfied: networkx>=2.0 in /opt/conda/lib/python3.7/site-packages (from scikit-image->efficientnet==1.1.0) (2.4)\r\n",
      "Requirement already satisfied: pillow>=4.3.0 in /opt/conda/lib/python3.7/site-packages (from scikit-image->efficientnet==1.1.0) (7.2.0)\r\n",
      "Requirement already satisfied: imageio>=2.3.0 in /opt/conda/lib/python3.7/site-packages (from scikit-image->efficientnet==1.1.0) (2.8.0)\r\n",
      "Requirement already satisfied: PyWavelets>=0.4.0 in /opt/conda/lib/python3.7/site-packages (from scikit-image->efficientnet==1.1.0) (1.1.1)\r\n",
      "Requirement already satisfied: six in /opt/conda/lib/python3.7/site-packages (from h5py->keras_applications<=1.0.8,>=1.0.7->efficientnet==1.1.0) (1.14.0)\r\n",
      "Requirement already satisfied: pyparsing!=2.0.4,!=2.1.2,!=2.1.6,>=2.0.1 in /opt/conda/lib/python3.7/site-packages (from matplotlib!=3.0.0,>=2.0.0->scikit-image->efficientnet==1.1.0) (2.4.7)\r\n",
      "Requirement already satisfied: cycler>=0.10 in /opt/conda/lib/python3.7/site-packages (from matplotlib!=3.0.0,>=2.0.0->scikit-image->efficientnet==1.1.0) (0.10.0)\r\n",
      "Requirement already satisfied: kiwisolver>=1.0.1 in /opt/conda/lib/python3.7/site-packages (from matplotlib!=3.0.0,>=2.0.0->scikit-image->efficientnet==1.1.0) (1.2.0)\r\n",
      "Requirement already satisfied: python-dateutil>=2.1 in /opt/conda/lib/python3.7/site-packages (from matplotlib!=3.0.0,>=2.0.0->scikit-image->efficientnet==1.1.0) (2.8.1)\r\n",
      "Requirement already satisfied: decorator>=4.3.0 in /opt/conda/lib/python3.7/site-packages (from networkx>=2.0->scikit-image->efficientnet==1.1.0) (4.4.2)\r\n",
      "Building wheels for collected packages: efficientnet\r\n",
      "  Building wheel for efficientnet (setup.py) ... \u001b[?25l-\b \b\\\b \bdone\r\n",
      "\u001b[?25h  Created wheel for efficientnet: filename=efficientnet-1.1.0-py3-none-any.whl size=14141 sha256=8c5f390dcea00718cfdc1b985b0d28e4431dd5f3c5427b24be67f6cf60327c0d\r\n",
      "  Stored in directory: /root/.cache/pip/wheels/24/f5/31/3cc20871288fe532128224a3f5af7b4d67efb9835bd5683522\r\n",
      "Successfully built efficientnet\r\n",
      "Installing collected packages: efficientnet\r\n",
      "Successfully installed efficientnet-1.1.0\r\n"
     ]
    }
   ],
   "source": [
    "!pip install ../input/kerasapplications/keras-team-keras-applications-3b180cb -f ./ --no-index\n",
    "!pip install ../input/efficientnet/efficientnet-1.1.0/ -f ./ --no-index"
   ]
  },
  {
   "cell_type": "code",
   "execution_count": 2,
   "metadata": {
    "_cell_guid": "79c7e3d0-c299-4dcb-8224-4455121ee9b0",
    "_uuid": "d629ff2d2480ee46fbb7e2d37f6b5fab8052498a",
    "execution": {
     "iopub.execute_input": "2020-12-05T12:33:28.067351Z",
     "iopub.status.busy": "2020-12-05T12:33:28.066360Z",
     "iopub.status.idle": "2020-12-05T12:33:34.221374Z",
     "shell.execute_reply": "2020-12-05T12:33:34.220200Z"
    },
    "papermill": {
     "duration": 6.226035,
     "end_time": "2020-12-05T12:33:34.221512",
     "exception": false,
     "start_time": "2020-12-05T12:33:27.995477",
     "status": "completed"
    },
    "tags": []
   },
   "outputs": [],
   "source": [
    "import os\n",
    "import cv2\n",
    "import pydicom\n",
    "import pandas as pd\n",
    "import numpy as np \n",
    "import tensorflow as tf \n",
    "import matplotlib.pyplot as plt \n",
    "import random\n",
    "from tqdm.notebook import tqdm \n",
    "from sklearn.model_selection import train_test_split, KFold\n",
    "from sklearn.metrics import mean_absolute_error\n",
    "from tensorflow_addons.optimizers import RectifiedAdam\n",
    "from tensorflow.keras import Model\n",
    "import tensorflow.keras.backend as K\n",
    "import tensorflow.keras.layers as L\n",
    "import tensorflow.keras.models as M\n",
    "from tensorflow.keras.optimizers import Nadam\n",
    "import seaborn as sns\n",
    "from PIL import Image\n",
    "\n",
    "def seed_everything(seed=2020):\n",
    "    random.seed(seed)\n",
    "    os.environ['PYTHONHASHSEED'] = str(seed)\n",
    "    np.random.seed(seed)\n",
    "    tf.random.set_seed(seed)\n",
    "    \n",
    "seed_everything(42)"
   ]
  },
  {
   "cell_type": "code",
   "execution_count": 3,
   "metadata": {
    "execution": {
     "iopub.execute_input": "2020-12-05T12:33:34.347770Z",
     "iopub.status.busy": "2020-12-05T12:33:34.347093Z",
     "iopub.status.idle": "2020-12-05T12:33:37.073302Z",
     "shell.execute_reply": "2020-12-05T12:33:37.072654Z"
    },
    "papermill": {
     "duration": 2.791157,
     "end_time": "2020-12-05T12:33:37.073430",
     "exception": false,
     "start_time": "2020-12-05T12:33:34.282273",
     "status": "completed"
    },
    "tags": []
   },
   "outputs": [],
   "source": [
    "config = tf.compat.v1.ConfigProto()\n",
    "config.gpu_options.allow_growth = True\n",
    "session = tf.compat.v1.Session(config=config)"
   ]
  },
  {
   "cell_type": "code",
   "execution_count": 4,
   "metadata": {
    "execution": {
     "iopub.execute_input": "2020-12-05T12:33:37.216996Z",
     "iopub.status.busy": "2020-12-05T12:33:37.216366Z",
     "iopub.status.idle": "2020-12-05T12:33:37.235696Z",
     "shell.execute_reply": "2020-12-05T12:33:37.235096Z"
    },
    "papermill": {
     "duration": 0.087346,
     "end_time": "2020-12-05T12:33:37.235836",
     "exception": false,
     "start_time": "2020-12-05T12:33:37.148490",
     "status": "completed"
    },
    "tags": []
   },
   "outputs": [],
   "source": [
    "train = pd.read_csv('../input/osic-pulmonary-fibrosis-progression/train.csv') "
   ]
  },
  {
   "cell_type": "markdown",
   "metadata": {
    "papermill": {
     "duration": 0.060545,
     "end_time": "2020-12-05T12:33:37.357317",
     "exception": false,
     "start_time": "2020-12-05T12:33:37.296772",
     "status": "completed"
    },
    "tags": []
   },
   "source": [
    "# Linear Decay (based on EfficientNets)"
   ]
  },
  {
   "cell_type": "code",
   "execution_count": 5,
   "metadata": {
    "execution": {
     "iopub.execute_input": "2020-12-05T12:33:37.489055Z",
     "iopub.status.busy": "2020-12-05T12:33:37.487284Z",
     "iopub.status.idle": "2020-12-05T12:33:37.489800Z",
     "shell.execute_reply": "2020-12-05T12:33:37.490275Z"
    },
    "papermill": {
     "duration": 0.07276,
     "end_time": "2020-12-05T12:33:37.490398",
     "exception": false,
     "start_time": "2020-12-05T12:33:37.417638",
     "status": "completed"
    },
    "tags": []
   },
   "outputs": [],
   "source": [
    "def get_tab(df):\n",
    "    vector = [(df.Age.values[0] - 30) / 30] \n",
    "    \n",
    "    if df.Sex.values[0] == 'male':\n",
    "       vector.append(0)\n",
    "    else:\n",
    "       vector.append(1)\n",
    "    \n",
    "    if df.SmokingStatus.values[0] == 'Never smoked':\n",
    "        vector.extend([0,0])\n",
    "    elif df.SmokingStatus.values[0] == 'Ex-smoker':\n",
    "        vector.extend([1,1])\n",
    "    elif df.SmokingStatus.values[0] == 'Currently smokes':\n",
    "        vector.extend([0,1])\n",
    "    else:\n",
    "        vector.extend([1,0])\n",
    "    return np.array(vector) "
   ]
  },
  {
   "cell_type": "code",
   "execution_count": 6,
   "metadata": {
    "execution": {
     "iopub.execute_input": "2020-12-05T12:33:37.625702Z",
     "iopub.status.busy": "2020-12-05T12:33:37.625102Z",
     "iopub.status.idle": "2020-12-05T12:33:38.022557Z",
     "shell.execute_reply": "2020-12-05T12:33:38.017958Z"
    },
    "papermill": {
     "duration": 0.471273,
     "end_time": "2020-12-05T12:33:38.022756",
     "exception": false,
     "start_time": "2020-12-05T12:33:37.551483",
     "status": "completed"
    },
    "tags": []
   },
   "outputs": [
    {
     "data": {
      "application/vnd.jupyter.widget-view+json": {
       "model_id": "52fc3b4fcdbb497689703d02c669df97",
       "version_major": 2,
       "version_minor": 0
      },
      "text/plain": [
       "HBox(children=(FloatProgress(value=1.0, bar_style='info', max=1.0), HTML(value='')))"
      ]
     },
     "metadata": {},
     "output_type": "display_data"
    },
    {
     "name": "stderr",
     "output_type": "stream",
     "text": [
      "/opt/conda/lib/python3.7/site-packages/ipykernel_launcher.py:9: FutureWarning: `rcond` parameter will change to the default of machine precision times ``max(M, N)`` where M and N are the input matrix dimensions.\n",
      "To use the future default and silence this warning we advise to pass `rcond=None`, to keep using the old, explicitly pass `rcond=-1`.\n",
      "  if __name__ == '__main__':\n"
     ]
    },
    {
     "name": "stdout",
     "output_type": "stream",
     "text": [
      "\n"
     ]
    }
   ],
   "source": [
    "A = {} \n",
    "TAB = {} \n",
    "P = [] \n",
    "for i, p in tqdm(enumerate(train.Patient.unique())):\n",
    "    sub = train.loc[train.Patient == p, :] \n",
    "    fvc = sub.FVC.values\n",
    "    weeks = sub.Weeks.values\n",
    "    c = np.vstack([weeks, np.ones(len(weeks))]).T\n",
    "    a, b = np.linalg.lstsq(c, fvc)[0]\n",
    "    \n",
    "    A[p] = a\n",
    "    TAB[p] = get_tab(sub)\n",
    "    P.append(p)"
   ]
  },
  {
   "cell_type": "code",
   "execution_count": 7,
   "metadata": {
    "execution": {
     "iopub.execute_input": "2020-12-05T12:33:38.256742Z",
     "iopub.status.busy": "2020-12-05T12:33:38.255826Z",
     "iopub.status.idle": "2020-12-05T12:33:38.303948Z",
     "shell.execute_reply": "2020-12-05T12:33:38.304551Z"
    },
    "papermill": {
     "duration": 0.143731,
     "end_time": "2020-12-05T12:33:38.304758",
     "exception": false,
     "start_time": "2020-12-05T12:33:38.161027",
     "status": "completed"
    },
    "tags": []
   },
   "outputs": [
    {
     "data": {
      "text/plain": [
       "{'ID00007637202177411956430': array([1.63333333, 1.        , 1.        , 1.        ]),\n",
       " 'ID00009637202177434476278': array([1.3, 1. , 1. , 1. ]),\n",
       " 'ID00010637202177584971671': array([1., 1., 1., 1.]),\n",
       " 'ID00011637202177653955184': array([1.4, 1. , 1. , 1. ]),\n",
       " 'ID00012637202177665765362': array([1.16666667, 1.        , 0.        , 0.        ]),\n",
       " 'ID00014637202177757139317': array([0.86666667, 1.        , 1.        , 1.        ]),\n",
       " 'ID00015637202177877247924': array([1.36666667, 1.        , 1.        , 1.        ]),\n",
       " 'ID00019637202178323708467': array([1.76666667, 1.        , 1.        , 1.        ]),\n",
       " 'ID00020637202178344345685': array([1.2, 1. , 0. , 0. ]),\n",
       " 'ID00023637202179104603099': array([1.36666667, 1.        , 1.        , 1.        ]),\n",
       " 'ID00025637202179541264076': array([1.16666667, 1.        , 1.        , 1.        ]),\n",
       " 'ID00026637202179561894768': array([0.9, 1. , 1. , 1. ]),\n",
       " 'ID00027637202179689871102': array([1.43333333, 1.        , 1.        , 1.        ]),\n",
       " 'ID00030637202181211009029': array([1.3, 1. , 1. , 1. ]),\n",
       " 'ID00032637202181710233084': array([1.1, 1. , 1. , 1. ]),\n",
       " 'ID00035637202182204917484': array([1.3, 1. , 1. , 1. ]),\n",
       " 'ID00038637202182690843176': array([1.36666667, 1.        , 1.        , 1.        ]),\n",
       " 'ID00042637202184406822975': array([0.93333333, 1.        , 1.        , 1.        ]),\n",
       " 'ID00047637202184938901501': array([1.26666667, 1.        , 1.        , 1.        ]),\n",
       " 'ID00048637202185016727717': array([1.33333333, 1.        , 0.        , 0.        ]),\n",
       " 'ID00051637202185848464638': array([1.43333333, 1.        , 1.        , 1.        ]),\n",
       " 'ID00052637202186188008618': array([0.8, 1. , 1. , 1. ]),\n",
       " 'ID00060637202187965290703': array([1.1, 1. , 1. , 1. ]),\n",
       " 'ID00061637202188184085559': array([1.26666667, 1.        , 1.        , 1.        ]),\n",
       " 'ID00062637202188654068490': array([1.46666667, 1.        , 0.        , 0.        ]),\n",
       " 'ID00067637202189903532242': array([1.13333333, 1.        , 1.        , 1.        ]),\n",
       " 'ID00068637202190879923934': array([1.43333333, 1.        , 1.        , 1.        ]),\n",
       " 'ID00072637202198161894406': array([1.36666667, 1.        , 1.        , 1.        ]),\n",
       " 'ID00073637202198167792918': array([1.3, 1. , 1. , 1. ]),\n",
       " 'ID00075637202198610425520': array([0.73333333, 1.        , 0.        , 0.        ]),\n",
       " 'ID00076637202199015035026': array([0.7, 1. , 0. , 0. ]),\n",
       " 'ID00077637202199102000916': array([1.33333333, 1.        , 1.        , 1.        ]),\n",
       " 'ID00078637202199415319443': array([0.83333333, 1.        , 1.        , 1.        ]),\n",
       " 'ID00082637202201836229724': array([0.63333333, 1.        , 0.        , 1.        ]),\n",
       " 'ID00086637202203494931510': array([1.16666667, 1.        , 0.        , 0.        ]),\n",
       " 'ID00089637202204675567570': array([1.1, 1. , 0. , 0. ]),\n",
       " 'ID00090637202204766623410': array([1.3, 1. , 1. , 1. ]),\n",
       " 'ID00093637202205278167493': array([1.3, 1. , 1. , 1. ]),\n",
       " 'ID00094637202205333947361': array([1.13333333, 1.        , 1.        , 1.        ]),\n",
       " 'ID00099637202206203080121': array([1.26666667, 1.        , 1.        , 1.        ]),\n",
       " 'ID00102637202206574119190': array([1., 1., 1., 1.]),\n",
       " 'ID00104637202208063407045': array([1.46666667, 1.        , 0.        , 0.        ]),\n",
       " 'ID00105637202208831864134': array([1.13333333, 1.        , 1.        , 1.        ]),\n",
       " 'ID00108637202209619669361': array([1.43333333, 1.        , 1.        , 1.        ]),\n",
       " 'ID00109637202210454292264': array([1.43333333, 1.        , 1.        , 1.        ]),\n",
       " 'ID00110637202210673668310': array([1.46666667, 1.        , 1.        , 1.        ]),\n",
       " 'ID00111637202210956877205': array([1.4, 1. , 1. , 1. ]),\n",
       " 'ID00115637202211874187958': array([1.56666667, 1.        , 1.        , 1.        ]),\n",
       " 'ID00117637202212360228007': array([1.26666667, 1.        , 0.        , 1.        ]),\n",
       " 'ID00119637202215426335765': array([0.9, 1. , 1. , 1. ]),\n",
       " 'ID00122637202216437668965': array([0.93333333, 1.        , 1.        , 1.        ]),\n",
       " 'ID00123637202217151272140': array([1.3, 1. , 0. , 0. ]),\n",
       " 'ID00124637202217596410344': array([1., 1., 1., 1.]),\n",
       " 'ID00125637202218590429387': array([1.16666667, 1.        , 0.        , 0.        ]),\n",
       " 'ID00126637202218610655908': array([1.6, 1. , 1. , 1. ]),\n",
       " 'ID00127637202219096738943': array([0.83333333, 1.        , 1.        , 1.        ]),\n",
       " 'ID00128637202219474716089': array([1.9, 1. , 0. , 0. ]),\n",
       " 'ID00129637202219868188000': array([1.36666667, 1.        , 0.        , 0.        ]),\n",
       " 'ID00130637202220059448013': array([1.16666667, 1.        , 0.        , 0.        ]),\n",
       " 'ID00131637202220424084844': array([1.03333333, 1.        , 0.        , 0.        ]),\n",
       " 'ID00132637202222178761324': array([1.3, 1. , 1. , 1. ]),\n",
       " 'ID00133637202223847701934': array([1.76666667, 1.        , 0.        , 0.        ]),\n",
       " 'ID00134637202223873059688': array([1.23333333, 1.        , 1.        , 1.        ]),\n",
       " 'ID00135637202224630271439': array([1.16666667, 1.        , 0.        , 0.        ]),\n",
       " 'ID00136637202224951350618': array([1.13333333, 1.        , 1.        , 1.        ]),\n",
       " 'ID00138637202231603868088': array([1.2, 1. , 1. , 1. ]),\n",
       " 'ID00139637202231703564336': array([1.53333333, 1.        , 1.        , 1.        ]),\n",
       " 'ID00140637202231728595149': array([0.93333333, 1.        , 0.        , 1.        ]),\n",
       " 'ID00149637202232704462834': array([1.2, 1. , 1. , 1. ]),\n",
       " 'ID00161637202235731948764': array([1.1, 1. , 1. , 1. ]),\n",
       " 'ID00165637202237320314458': array([0.8, 1. , 1. , 1. ]),\n",
       " 'ID00167637202237397919352': array([0.93333333, 1.        , 1.        , 1.        ]),\n",
       " 'ID00168637202237852027833': array([1.06666667, 1.        , 1.        , 1.        ]),\n",
       " 'ID00169637202238024117706': array([1.2, 1. , 0. , 0. ]),\n",
       " 'ID00170637202238079193844': array([1.63333333, 1.        , 1.        , 1.        ]),\n",
       " 'ID00172637202238316925179': array([1.43333333, 1.        , 1.        , 1.        ]),\n",
       " 'ID00173637202238329754031': array([1.43333333, 1.        , 1.        , 1.        ]),\n",
       " 'ID00180637202240177410333': array([1.26666667, 1.        , 1.        , 1.        ]),\n",
       " 'ID00183637202241995351650': array([1.36666667, 1.        , 1.        , 1.        ]),\n",
       " 'ID00184637202242062969203': array([0.73333333, 1.        , 1.        , 1.        ]),\n",
       " 'ID00186637202242472088675': array([1.3, 1. , 1. , 1. ]),\n",
       " 'ID00190637202244450116191': array([1.3, 1. , 1. , 1. ]),\n",
       " 'ID00192637202245493238298': array([0.86666667, 1.        , 0.        , 0.        ]),\n",
       " 'ID00196637202246668775836': array([1.16666667, 1.        , 1.        , 1.        ]),\n",
       " 'ID00197637202246865691526': array([1.16666667, 1.        , 0.        , 1.        ]),\n",
       " 'ID00199637202248141386743': array([1.06666667, 1.        , 1.        , 1.        ]),\n",
       " 'ID00202637202249376026949': array([1.13333333, 1.        , 0.        , 0.        ]),\n",
       " 'ID00207637202252526380974': array([1.23333333, 1.        , 1.        , 1.        ]),\n",
       " 'ID00210637202257228694086': array([1.53333333, 1.        , 0.        , 1.        ]),\n",
       " 'ID00213637202257692916109': array([1.33333333, 1.        , 0.        , 1.        ]),\n",
       " 'ID00214637202257820847190': array([1.3, 1. , 1. , 1. ]),\n",
       " 'ID00216637202257988213445': array([1.16666667, 1.        , 0.        , 0.        ]),\n",
       " 'ID00218637202258156844710': array([1.7, 1. , 1. , 1. ]),\n",
       " 'ID00219637202258203123958': array([1.36666667, 1.        , 1.        , 1.        ]),\n",
       " 'ID00221637202258717315571': array([1.53333333, 1.        , 1.        , 1.        ]),\n",
       " 'ID00222637202259066229764': array([1.33333333, 1.        , 1.        , 1.        ]),\n",
       " 'ID00224637202259281193413': array([1.4, 1. , 0. , 0. ]),\n",
       " 'ID00225637202259339837603': array([1.56666667, 1.        , 0.        , 0.        ]),\n",
       " 'ID00228637202259965313869': array([0.93333333, 1.        , 1.        , 1.        ]),\n",
       " 'ID00229637202260254240583': array([1.36666667, 1.        , 1.        , 1.        ]),\n",
       " 'ID00232637202260377586117': array([1.46666667, 1.        , 0.        , 0.        ]),\n",
       " 'ID00233637202260580149633': array([1.26666667, 1.        , 1.        , 1.        ]),\n",
       " 'ID00234637202261078001846': array([1.2, 1. , 1. , 1. ]),\n",
       " 'ID00235637202261451839085': array([1.23333333, 1.        , 1.        , 1.        ]),\n",
       " 'ID00240637202264138860065': array([1.1, 1. , 1. , 1. ]),\n",
       " 'ID00241637202264294508775': array([1.2, 1. , 0. , 0. ]),\n",
       " 'ID00242637202264759739921': array([1.13333333, 1.        , 1.        , 1.        ]),\n",
       " 'ID00248637202266698862378': array([1.36666667, 1.        , 0.        , 0.        ]),\n",
       " 'ID00249637202266730854017': array([0.86666667, 1.        , 1.        , 1.        ]),\n",
       " 'ID00251637202267455595113': array([1.93333333, 1.        , 1.        , 1.        ]),\n",
       " 'ID00255637202267923028520': array([1.06666667, 1.        , 0.        , 0.        ]),\n",
       " 'ID00264637202270643353440': array([1.53333333, 1.        , 0.        , 0.        ]),\n",
       " 'ID00267637202270790561585': array([1.33333333, 1.        , 0.        , 0.        ]),\n",
       " 'ID00273637202271319294586': array([1., 1., 1., 1.]),\n",
       " 'ID00275637202271440119890': array([1.06666667, 1.        , 0.        , 0.        ]),\n",
       " 'ID00276637202271694539978': array([1.56666667, 1.        , 1.        , 1.        ]),\n",
       " 'ID00279637202272164826258': array([1.33333333, 1.        , 1.        , 1.        ]),\n",
       " 'ID00283637202278714365037': array([1., 1., 0., 0.]),\n",
       " 'ID00285637202278913507108': array([1.03333333, 1.        , 0.        , 0.        ]),\n",
       " 'ID00288637202279148973731': array([1.1, 1. , 1. , 1. ]),\n",
       " 'ID00290637202279304677843': array([1.5, 1. , 0. , 0. ]),\n",
       " 'ID00291637202279398396106': array([1.4, 1. , 1. , 1. ]),\n",
       " 'ID00294637202279614924243': array([1.46666667, 1.        , 1.        , 1.        ]),\n",
       " 'ID00296637202279895784347': array([0.93333333, 1.        , 1.        , 1.        ]),\n",
       " 'ID00298637202280361773446': array([1.23333333, 1.        , 0.        , 0.        ]),\n",
       " 'ID00299637202280383305867': array([1.6, 1. , 1. , 1. ]),\n",
       " 'ID00305637202281772703145': array([1.06666667, 1.        , 1.        , 1.        ]),\n",
       " 'ID00307637202282126172865': array([1.16666667, 1.        , 0.        , 0.        ]),\n",
       " 'ID00309637202282195513787': array([1.43333333, 1.        , 0.        , 0.        ]),\n",
       " 'ID00312637202282607344793': array([1.4, 1. , 1. , 1. ]),\n",
       " 'ID00317637202283194142136': array([1.13333333, 1.        , 1.        , 1.        ]),\n",
       " 'ID00319637202283897208687': array([1.4, 1. , 1. , 1. ]),\n",
       " 'ID00322637202284842245491': array([0.96666667, 1.        , 1.        , 1.        ]),\n",
       " 'ID00323637202285211956970': array([1.56666667, 1.        , 1.        , 1.        ]),\n",
       " 'ID00329637202285906759848': array([1.3, 1. , 1. , 1. ]),\n",
       " 'ID00331637202286306023714': array([1.3, 1. , 0. , 1. ]),\n",
       " 'ID00335637202286784464927': array([1.46666667, 1.        , 1.        , 1.        ]),\n",
       " 'ID00336637202286801879145': array([0.86666667, 1.        , 1.        , 1.        ]),\n",
       " 'ID00337637202286839091062': array([1.3, 1. , 1. , 1. ]),\n",
       " 'ID00339637202287377736231': array([1.13333333, 1.        , 1.        , 1.        ]),\n",
       " 'ID00340637202287399835821': array([1.26666667, 1.        , 1.        , 1.        ]),\n",
       " 'ID00341637202287410878488': array([1.26666667, 1.        , 0.        , 1.        ]),\n",
       " 'ID00342637202287526592911': array([1.4, 1. , 1. , 1. ]),\n",
       " 'ID00343637202287577133798': array([1.26666667, 1.        , 0.        , 0.        ]),\n",
       " 'ID00344637202287684217717': array([0.93333333, 1.        , 0.        , 0.        ]),\n",
       " 'ID00351637202289476567312': array([1.6, 1. , 1. , 1. ]),\n",
       " 'ID00355637202295106567614': array([1.16666667, 1.        , 0.        , 1.        ]),\n",
       " 'ID00358637202295388077032': array([1.16666667, 1.        , 1.        , 1.        ]),\n",
       " 'ID00360637202295712204040': array([1.63333333, 1.        , 0.        , 0.        ]),\n",
       " 'ID00364637202296074419422': array([1.13333333, 1.        , 1.        , 1.        ]),\n",
       " 'ID00365637202296085035729': array([1.36666667, 1.        , 1.        , 1.        ]),\n",
       " 'ID00367637202296290303449': array([0.9, 1. , 0. , 0. ]),\n",
       " 'ID00368637202296470751086': array([1.16666667, 1.        , 0.        , 0.        ]),\n",
       " 'ID00370637202296737666151': array([1.5, 1. , 1. , 1. ]),\n",
       " 'ID00371637202296828615743': array([1.36666667, 1.        , 1.        , 1.        ]),\n",
       " 'ID00376637202297677828573': array([1.4, 1. , 0. , 0. ]),\n",
       " 'ID00378637202298597306391': array([0.86666667, 1.        , 0.        , 0.        ]),\n",
       " 'ID00381637202299644114027': array([1.06666667, 1.        , 1.        , 1.        ]),\n",
       " 'ID00383637202300493233675': array([1.13333333, 1.        , 0.        , 0.        ]),\n",
       " 'ID00388637202301028491611': array([0.76666667, 1.        , 1.        , 1.        ]),\n",
       " 'ID00392637202302319160044': array([1.2, 1. , 1. , 1. ]),\n",
       " 'ID00393637202302431697467': array([1.23333333, 1.        , 0.        , 0.        ]),\n",
       " 'ID00398637202303897337979': array([1.33333333, 1.        , 1.        , 1.        ]),\n",
       " 'ID00400637202305055099402': array([0.83333333, 1.        , 1.        , 1.        ]),\n",
       " 'ID00401637202305320178010': array([1.46666667, 1.        , 1.        , 1.        ]),\n",
       " 'ID00405637202308359492977': array([1.03333333, 1.        , 0.        , 0.        ]),\n",
       " 'ID00407637202308788732304': array([1.2, 1. , 1. , 1. ]),\n",
       " 'ID00408637202308839708961': array([1.46666667, 1.        , 1.        , 1.        ]),\n",
       " 'ID00411637202309374271828': array([1.16666667, 1.        , 1.        , 1.        ]),\n",
       " 'ID00414637202310318891556': array([1.16666667, 1.        , 0.        , 0.        ]),\n",
       " 'ID00417637202310901214011': array([1.2, 1. , 0. , 0. ]),\n",
       " 'ID00419637202311204720264': array([1.43333333, 1.        , 1.        , 1.        ]),\n",
       " 'ID00421637202311550012437': array([1.26666667, 1.        , 1.        , 1.        ]),\n",
       " 'ID00422637202311677017371': array([1.43333333, 1.        , 1.        , 1.        ]),\n",
       " 'ID00423637202312137826377': array([1.4, 1. , 1. , 1. ]),\n",
       " 'ID00426637202313170790466': array([1.43333333, 1.        , 0.        , 0.        ])}"
      ]
     },
     "execution_count": 7,
     "metadata": {},
     "output_type": "execute_result"
    }
   ],
   "source": [
    "TAB"
   ]
  },
  {
   "cell_type": "markdown",
   "metadata": {
    "papermill": {
     "duration": 0.096944,
     "end_time": "2020-12-05T12:33:38.494514",
     "exception": false,
     "start_time": "2020-12-05T12:33:38.397570",
     "status": "completed"
    },
    "tags": []
   },
   "source": [
    "## CNN for coeff prediction"
   ]
  },
  {
   "cell_type": "code",
   "execution_count": 8,
   "metadata": {
    "execution": {
     "iopub.execute_input": "2020-12-05T12:33:38.698510Z",
     "iopub.status.busy": "2020-12-05T12:33:38.697442Z",
     "iopub.status.idle": "2020-12-05T12:33:38.700107Z",
     "shell.execute_reply": "2020-12-05T12:33:38.699341Z"
    },
    "papermill": {
     "duration": 0.108756,
     "end_time": "2020-12-05T12:33:38.700241",
     "exception": false,
     "start_time": "2020-12-05T12:33:38.591485",
     "status": "completed"
    },
    "tags": []
   },
   "outputs": [],
   "source": [
    "def get_img(path):\n",
    "    d = pydicom.dcmread(path)\n",
    "    return cv2.resize(d.pixel_array / 2**11, (512, 512))"
   ]
  },
  {
   "cell_type": "code",
   "execution_count": 9,
   "metadata": {
    "execution": {
     "iopub.execute_input": "2020-12-05T12:33:38.911611Z",
     "iopub.status.busy": "2020-12-05T12:33:38.910606Z",
     "iopub.status.idle": "2020-12-05T12:33:38.924462Z",
     "shell.execute_reply": "2020-12-05T12:33:38.925504Z"
    },
    "papermill": {
     "duration": 0.131222,
     "end_time": "2020-12-05T12:33:38.925664",
     "exception": false,
     "start_time": "2020-12-05T12:33:38.794442",
     "status": "completed"
    },
    "tags": []
   },
   "outputs": [],
   "source": [
    "from tensorflow.keras.utils import Sequence\n",
    "\n",
    "class IGenerator(Sequence):\n",
    "    BAD_ID = ['ID00011637202177653955184', 'ID00052637202186188008618']\n",
    "    def __init__(self, keys, a, tab, batch_size=32):\n",
    "        self.keys = [k for k in keys if k not in self.BAD_ID]\n",
    "        self.a = a\n",
    "        self.tab = tab\n",
    "        self.batch_size = batch_size\n",
    "        \n",
    "        self.train_data = {}\n",
    "        for p in train.Patient.values:\n",
    "            self.train_data[p] = os.listdir(f'../input/osic-pulmonary-fibrosis-progression/train/{p}/')\n",
    "    \n",
    "    def __len__(self):\n",
    "        return 1000\n",
    "    \n",
    "    def __getitem__(self, idx):\n",
    "        x = []\n",
    "        a, tab = [], [] \n",
    "        keys = np.random.choice(self.keys, size = self.batch_size)\n",
    "        for k in keys:\n",
    "            try:\n",
    "                i = np.random.choice(self.train_data[k], size=1)[0]\n",
    "                img = get_img(f'../input/osic-pulmonary-fibrosis-progression/train/{k}/{i}')\n",
    "                x.append(img)\n",
    "                a.append(self.a[k])\n",
    "                tab.append(self.tab[k])\n",
    "            except:\n",
    "                print(k, i)\n",
    "       \n",
    "        x,a,tab = np.array(x), np.array(a), np.array(tab)\n",
    "        x = np.expand_dims(x, axis=-1)\n",
    "        return [x, tab] , a"
   ]
  },
  {
   "cell_type": "code",
   "execution_count": 10,
   "metadata": {
    "execution": {
     "iopub.execute_input": "2020-12-05T12:33:39.121324Z",
     "iopub.status.busy": "2020-12-05T12:33:39.120217Z",
     "iopub.status.idle": "2020-12-05T12:34:38.523480Z",
     "shell.execute_reply": "2020-12-05T12:34:38.524062Z"
    },
    "papermill": {
     "duration": 59.507085,
     "end_time": "2020-12-05T12:34:38.524223",
     "exception": false,
     "start_time": "2020-12-05T12:33:39.017138",
     "status": "completed"
    },
    "tags": []
   },
   "outputs": [
    {
     "name": "stdout",
     "output_type": "stream",
     "text": [
      "Number of models: 1\n"
     ]
    }
   ],
   "source": [
    "from tensorflow.keras.layers import (\n",
    "    Dense, Dropout, Activation, Flatten, Input, BatchNormalization, GlobalAveragePooling2D, Add, Conv2D, AveragePooling2D, \n",
    "    LeakyReLU, Concatenate \n",
    ")\n",
    "import efficientnet.tfkeras as efn\n",
    "\n",
    "def get_efficientnet(model, shape):\n",
    "    models_dict = {\n",
    "        'b0': efn.EfficientNetB0(input_shape=shape,weights=None,include_top=False),\n",
    "        'b1': efn.EfficientNetB1(input_shape=shape,weights=None,include_top=False),\n",
    "        'b2': efn.EfficientNetB2(input_shape=shape,weights=None,include_top=False),\n",
    "        'b3': efn.EfficientNetB3(input_shape=shape,weights=None,include_top=False),\n",
    "        'b4': efn.EfficientNetB4(input_shape=shape,weights=None,include_top=False),\n",
    "        'b5': efn.EfficientNetB5(input_shape=shape,weights=None,include_top=False),\n",
    "        'b6': efn.EfficientNetB6(input_shape=shape,weights=None,include_top=False),\n",
    "        'b7': efn.EfficientNetB7(input_shape=shape,weights=None,include_top=False)\n",
    "    }\n",
    "    return models_dict[model]\n",
    "\n",
    "def build_model(shape=(512, 512, 1), model_class=None):\n",
    "    inp = Input(shape=shape)\n",
    "    base = get_efficientnet(model_class, shape)\n",
    "    x = base(inp)\n",
    "    x = GlobalAveragePooling2D()(x)\n",
    "    inp2 = Input(shape=(4,))\n",
    "    x2 = tf.keras.layers.GaussianNoise(0.2)(inp2)\n",
    "    x = Concatenate()([x, x2]) \n",
    "    x = Dropout(0.5)(x) \n",
    "    x = Dense(1)(x)\n",
    "    model = Model([inp, inp2] , x)\n",
    "    \n",
    "    weights = [w for w in os.listdir('../input/osic-model-weights') if model_class in w][0]\n",
    "#     model.load_weights('../input/osic-model-weights/' + weights)\n",
    "    model.load_weights('../input/effnet-b5-30epochs-1/effnet_30.h5')\n",
    "    return model\n",
    "\n",
    "model_classes = ['b5'] #['b0','b1','b2','b3',b4','b5','b6','b7']\n",
    "models = [build_model(shape=(512, 512, 1), model_class=m) for m in model_classes]\n",
    "print('Number of models: ' + str(len(models)))"
   ]
  },
  {
   "cell_type": "code",
   "execution_count": 11,
   "metadata": {
    "execution": {
     "iopub.execute_input": "2020-12-05T12:34:38.656630Z",
     "iopub.status.busy": "2020-12-05T12:34:38.655455Z",
     "iopub.status.idle": "2020-12-05T12:34:38.658688Z",
     "shell.execute_reply": "2020-12-05T12:34:38.658212Z"
    },
    "papermill": {
     "duration": 0.071528,
     "end_time": "2020-12-05T12:34:38.658811",
     "exception": false,
     "start_time": "2020-12-05T12:34:38.587283",
     "status": "completed"
    },
    "tags": []
   },
   "outputs": [],
   "source": [
    "from sklearn.model_selection import train_test_split \n",
    "\n",
    "tr_p, vl_p = train_test_split(P, \n",
    "                              shuffle=True, \n",
    "                              train_size= 1) "
   ]
  },
  {
   "cell_type": "code",
   "execution_count": 12,
   "metadata": {
    "execution": {
     "iopub.execute_input": "2020-12-05T12:34:38.788865Z",
     "iopub.status.busy": "2020-12-05T12:34:38.788264Z",
     "iopub.status.idle": "2020-12-05T12:34:38.972696Z",
     "shell.execute_reply": "2020-12-05T12:34:38.973228Z"
    },
    "papermill": {
     "duration": 0.251454,
     "end_time": "2020-12-05T12:34:38.973364",
     "exception": false,
     "start_time": "2020-12-05T12:34:38.721910",
     "status": "completed"
    },
    "tags": []
   },
   "outputs": [
    {
     "data": {
      "image/png": "[encoded data removed]",
      "text/plain": [
       "<Figure size 432x288 with 1 Axes>"
      ]
     },
     "metadata": {
      "needs_background": "light"
     },
     "output_type": "display_data"
    }
   ],
   "source": [
    "sns.distplot(list(A.values()));"
   ]
  },
  {
   "cell_type": "code",
   "execution_count": 13,
   "metadata": {
    "execution": {
     "iopub.execute_input": "2020-12-05T12:34:39.111414Z",
     "iopub.status.busy": "2020-12-05T12:34:39.110592Z",
     "iopub.status.idle": "2020-12-05T12:34:39.113499Z",
     "shell.execute_reply": "2020-12-05T12:34:39.113020Z"
    },
    "papermill": {
     "duration": 0.07516,
     "end_time": "2020-12-05T12:34:39.113596",
     "exception": false,
     "start_time": "2020-12-05T12:34:39.038436",
     "status": "completed"
    },
    "tags": []
   },
   "outputs": [],
   "source": [
    "def score(fvc_true, fvc_pred, sigma):\n",
    "    sigma_clip = np.maximum(sigma, 70) # changed from 70, trie 66.7 too\n",
    "    delta = np.abs(fvc_true - fvc_pred)\n",
    "    delta = np.minimum(delta, 1000)\n",
    "    sq2 = np.sqrt(2)\n",
    "    metric = (delta / sigma_clip)*sq2 + np.log(sigma_clip* sq2)\n",
    "    return np.mean(metric)"
   ]
  },
  {
   "cell_type": "code",
   "execution_count": 14,
   "metadata": {
    "execution": {
     "iopub.execute_input": "2020-12-05T12:34:39.268664Z",
     "iopub.status.busy": "2020-12-05T12:34:39.254630Z",
     "iopub.status.idle": "2020-12-05T12:35:39.444085Z",
     "shell.execute_reply": "2020-12-05T12:35:39.444668Z"
    },
    "papermill": {
     "duration": 60.266716,
     "end_time": "2020-12-05T12:35:39.444853",
     "exception": false,
     "start_time": "2020-12-05T12:34:39.178137",
     "status": "completed"
    },
    "tags": []
   },
   "outputs": [],
   "source": [
    "subs = []\n",
    "for model in models:\n",
    "\n",
    "    q = 0.5\n",
    "\n",
    "    sub = pd.read_csv('../input/osic-pulmonary-fibrosis-progression/sample_submission.csv') \n",
    "    test = pd.read_csv('../input/osic-pulmonary-fibrosis-progression/test.csv') \n",
    "    A_test, B_test, P_test,W, FVC= {}, {}, {},{},{} \n",
    "    STD, WEEK = {}, {} \n",
    "    for p in test.Patient.unique():\n",
    "        x = [] \n",
    "        tab = [] \n",
    "        ldir = os.listdir(f'../input/osic-pulmonary-fibrosis-progression/test/{p}/')\n",
    "        for i in ldir:\n",
    "            if int(i[:-4]) / len(ldir) < 1.1 and int(i[:-4]) / len(ldir) > -0.1:\n",
    "                x.append(get_img(f'../input/osic-pulmonary-fibrosis-progression/test/{p}/{i}')) \n",
    "                tab.append(get_tab(test.loc[test.Patient == p, :])) \n",
    "        if len(x) <= 1:\n",
    "            continue\n",
    "        tab = np.array(tab) \n",
    "\n",
    "        x = np.expand_dims(x, axis=-1) \n",
    "        _a = model.predict([x, tab]) \n",
    "        a = np.quantile(_a, q)\n",
    "        A_test[p] = a\n",
    "        B_test[p] = test.FVC.values[test.Patient == p] - a*test.Weeks.values[test.Patient == p]\n",
    "        P_test[p] = test.Percent.values[test.Patient == p] \n",
    "        WEEK[p] = test.Weeks.values[test.Patient == p]\n",
    "\n",
    "    for k in sub.Patient_Week.values:\n",
    "        p, w = k.split('_')\n",
    "        w = int(w) \n",
    "\n",
    "        fvc = A_test[p] * w + B_test[p]\n",
    "        sub.loc[sub.Patient_Week == k, 'FVC'] = fvc\n",
    "        sub.loc[sub.Patient_Week == k, 'Confidence'] = (\n",
    "            P_test[p] - A_test[p] * abs(WEEK[p] - w) \n",
    "    ) \n",
    "\n",
    "    _sub = sub[[\"Patient_Week\",\"FVC\",\"Confidence\"]].copy()\n",
    "    subs.append(_sub)"
   ]
  },
  {
   "cell_type": "code",
   "execution_count": 15,
   "metadata": {
    "execution": {
     "iopub.execute_input": "2020-12-05T12:35:39.590662Z",
     "iopub.status.busy": "2020-12-05T12:35:39.589928Z",
     "iopub.status.idle": "2020-12-05T12:35:39.601001Z",
     "shell.execute_reply": "2020-12-05T12:35:39.600469Z"
    },
    "papermill": {
     "duration": 0.088148,
     "end_time": "2020-12-05T12:35:39.601103",
     "exception": false,
     "start_time": "2020-12-05T12:35:39.512955",
     "status": "completed"
    },
    "tags": []
   },
   "outputs": [
    {
     "data": {
      "text/html": [
       "<div>\n",
       "<style scoped>\n",
       "    .dataframe tbody tr th:only-of-type {\n",
       "        vertical-align: middle;\n",
       "    }\n",
       "\n",
       "    .dataframe tbody tr th {\n",
       "        vertical-align: top;\n",
       "    }\n",
       "\n",
       "    .dataframe thead th {\n",
       "        text-align: right;\n",
       "    }\n",
       "</style>\n",
       "<table border=\"1\" class=\"dataframe\">\n",
       "  <thead>\n",
       "    <tr style=\"text-align: right;\">\n",
       "      <th></th>\n",
       "      <th>Patient_Week</th>\n",
       "      <th>FVC</th>\n",
       "      <th>Confidence</th>\n",
       "    </tr>\n",
       "  </thead>\n",
       "  <tbody>\n",
       "    <tr>\n",
       "      <th>0</th>\n",
       "      <td>ID00419637202311204720264_-12</td>\n",
       "      <td>3089.912209</td>\n",
       "      <td>140.099064</td>\n",
       "    </tr>\n",
       "    <tr>\n",
       "      <th>1</th>\n",
       "      <td>ID00421637202311550012437_-12</td>\n",
       "      <td>2843.369867</td>\n",
       "      <td>186.415158</td>\n",
       "    </tr>\n",
       "    <tr>\n",
       "      <th>2</th>\n",
       "      <td>ID00422637202311677017371_-12</td>\n",
       "      <td>1999.601912</td>\n",
       "      <td>146.274405</td>\n",
       "    </tr>\n",
       "    <tr>\n",
       "      <th>3</th>\n",
       "      <td>ID00423637202312137826377_-12</td>\n",
       "      <td>3405.996907</td>\n",
       "      <td>191.255810</td>\n",
       "    </tr>\n",
       "    <tr>\n",
       "      <th>4</th>\n",
       "      <td>ID00426637202313170790466_-12</td>\n",
       "      <td>2967.838420</td>\n",
       "      <td>114.663388</td>\n",
       "    </tr>\n",
       "    <tr>\n",
       "      <th>...</th>\n",
       "      <td>...</td>\n",
       "      <td>...</td>\n",
       "      <td>...</td>\n",
       "    </tr>\n",
       "    <tr>\n",
       "      <th>725</th>\n",
       "      <td>ID00419637202311204720264_133</td>\n",
       "      <td>2526.730523</td>\n",
       "      <td>563.456332</td>\n",
       "    </tr>\n",
       "    <tr>\n",
       "      <th>726</th>\n",
       "      <td>ID00421637202311550012437_133</td>\n",
       "      <td>2282.865025</td>\n",
       "      <td>538.180266</td>\n",
       "    </tr>\n",
       "    <tr>\n",
       "      <th>727</th>\n",
       "      <td>ID00422637202311677017371_133</td>\n",
       "      <td>1438.919843</td>\n",
       "      <td>567.752650</td>\n",
       "    </tr>\n",
       "    <tr>\n",
       "      <th>728</th>\n",
       "      <td>ID00423637202312137826377_133</td>\n",
       "      <td>2846.012371</td>\n",
       "      <td>527.246532</td>\n",
       "    </tr>\n",
       "    <tr>\n",
       "      <th>729</th>\n",
       "      <td>ID00426637202313170790466_133</td>\n",
       "      <td>2450.207513</td>\n",
       "      <td>546.617455</td>\n",
       "    </tr>\n",
       "  </tbody>\n",
       "</table>\n",
       "<p>730 rows × 3 columns</p>\n",
       "</div>"
      ],
      "text/plain": [
       "                      Patient_Week          FVC  Confidence\n",
       "0    ID00419637202311204720264_-12  3089.912209  140.099064\n",
       "1    ID00421637202311550012437_-12  2843.369867  186.415158\n",
       "2    ID00422637202311677017371_-12  1999.601912  146.274405\n",
       "3    ID00423637202312137826377_-12  3405.996907  191.255810\n",
       "4    ID00426637202313170790466_-12  2967.838420  114.663388\n",
       "..                             ...          ...         ...\n",
       "725  ID00419637202311204720264_133  2526.730523  563.456332\n",
       "726  ID00421637202311550012437_133  2282.865025  538.180266\n",
       "727  ID00422637202311677017371_133  1438.919843  567.752650\n",
       "728  ID00423637202312137826377_133  2846.012371  527.246532\n",
       "729  ID00426637202313170790466_133  2450.207513  546.617455\n",
       "\n",
       "[730 rows x 3 columns]"
      ]
     },
     "execution_count": 15,
     "metadata": {},
     "output_type": "execute_result"
    }
   ],
   "source": [
    "subs[0]"
   ]
  },
  {
   "cell_type": "markdown",
   "metadata": {
    "papermill": {
     "duration": 0.068317,
     "end_time": "2020-12-05T12:35:39.744140",
     "exception": false,
     "start_time": "2020-12-05T12:35:39.675823",
     "status": "completed"
    },
    "tags": []
   },
   "source": [
    "## Averaging Predictions"
   ]
  },
  {
   "cell_type": "code",
   "execution_count": 16,
   "metadata": {
    "execution": {
     "iopub.execute_input": "2020-12-05T12:35:39.902152Z",
     "iopub.status.busy": "2020-12-05T12:35:39.901458Z",
     "iopub.status.idle": "2020-12-05T12:35:39.924303Z",
     "shell.execute_reply": "2020-12-05T12:35:39.924786Z"
    },
    "papermill": {
     "duration": 0.109765,
     "end_time": "2020-12-05T12:35:39.924927",
     "exception": false,
     "start_time": "2020-12-05T12:35:39.815162",
     "status": "completed"
    },
    "tags": []
   },
   "outputs": [],
   "source": [
    "N = len(subs)\n",
    "sub = subs[0].copy() # ref\n",
    "sub[\"FVC\"] = 0\n",
    "sub[\"Confidence\"] = 0\n",
    "for i in range(N):\n",
    "    sub[\"FVC\"] += subs[0][\"FVC\"] * (1/N)\n",
    "    sub[\"Confidence\"] += subs[0][\"Confidence\"] * (1/N)"
   ]
  },
  {
   "cell_type": "code",
   "execution_count": 17,
   "metadata": {
    "execution": {
     "iopub.execute_input": "2020-12-05T12:35:40.072765Z",
     "iopub.status.busy": "2020-12-05T12:35:40.071874Z",
     "iopub.status.idle": "2020-12-05T12:35:40.075612Z",
     "shell.execute_reply": "2020-12-05T12:35:40.076082Z"
    },
    "papermill": {
     "duration": 0.080073,
     "end_time": "2020-12-05T12:35:40.076232",
     "exception": false,
     "start_time": "2020-12-05T12:35:39.996159",
     "status": "completed"
    },
    "tags": []
   },
   "outputs": [
    {
     "data": {
      "text/plain": [
       "1"
      ]
     },
     "execution_count": 17,
     "metadata": {},
     "output_type": "execute_result"
    }
   ],
   "source": [
    "N"
   ]
  },
  {
   "cell_type": "code",
   "execution_count": 18,
   "metadata": {
    "execution": {
     "iopub.execute_input": "2020-12-05T12:35:40.222907Z",
     "iopub.status.busy": "2020-12-05T12:35:40.222025Z",
     "iopub.status.idle": "2020-12-05T12:35:40.226048Z",
     "shell.execute_reply": "2020-12-05T12:35:40.225548Z"
    },
    "papermill": {
     "duration": 0.080359,
     "end_time": "2020-12-05T12:35:40.226148",
     "exception": false,
     "start_time": "2020-12-05T12:35:40.145789",
     "status": "completed"
    },
    "tags": []
   },
   "outputs": [
    {
     "data": {
      "text/html": [
       "<div>\n",
       "<style scoped>\n",
       "    .dataframe tbody tr th:only-of-type {\n",
       "        vertical-align: middle;\n",
       "    }\n",
       "\n",
       "    .dataframe tbody tr th {\n",
       "        vertical-align: top;\n",
       "    }\n",
       "\n",
       "    .dataframe thead th {\n",
       "        text-align: right;\n",
       "    }\n",
       "</style>\n",
       "<table border=\"1\" class=\"dataframe\">\n",
       "  <thead>\n",
       "    <tr style=\"text-align: right;\">\n",
       "      <th></th>\n",
       "      <th>Patient_Week</th>\n",
       "      <th>FVC</th>\n",
       "      <th>Confidence</th>\n",
       "    </tr>\n",
       "  </thead>\n",
       "  <tbody>\n",
       "    <tr>\n",
       "      <th>0</th>\n",
       "      <td>ID00419637202311204720264_-12</td>\n",
       "      <td>3089.912209</td>\n",
       "      <td>140.099064</td>\n",
       "    </tr>\n",
       "    <tr>\n",
       "      <th>1</th>\n",
       "      <td>ID00421637202311550012437_-12</td>\n",
       "      <td>2843.369867</td>\n",
       "      <td>186.415158</td>\n",
       "    </tr>\n",
       "    <tr>\n",
       "      <th>2</th>\n",
       "      <td>ID00422637202311677017371_-12</td>\n",
       "      <td>1999.601912</td>\n",
       "      <td>146.274405</td>\n",
       "    </tr>\n",
       "    <tr>\n",
       "      <th>3</th>\n",
       "      <td>ID00423637202312137826377_-12</td>\n",
       "      <td>3405.996907</td>\n",
       "      <td>191.255810</td>\n",
       "    </tr>\n",
       "    <tr>\n",
       "      <th>4</th>\n",
       "      <td>ID00426637202313170790466_-12</td>\n",
       "      <td>2967.838420</td>\n",
       "      <td>114.663388</td>\n",
       "    </tr>\n",
       "  </tbody>\n",
       "</table>\n",
       "</div>"
      ],
      "text/plain": [
       "                    Patient_Week          FVC  Confidence\n",
       "0  ID00419637202311204720264_-12  3089.912209  140.099064\n",
       "1  ID00421637202311550012437_-12  2843.369867  186.415158\n",
       "2  ID00422637202311677017371_-12  1999.601912  146.274405\n",
       "3  ID00423637202312137826377_-12  3405.996907  191.255810\n",
       "4  ID00426637202313170790466_-12  2967.838420  114.663388"
      ]
     },
     "execution_count": 18,
     "metadata": {},
     "output_type": "execute_result"
    }
   ],
   "source": [
    "sub.head()"
   ]
  },
  {
   "cell_type": "code",
   "execution_count": 19,
   "metadata": {
    "execution": {
     "iopub.execute_input": "2020-12-05T12:35:40.365087Z",
     "iopub.status.busy": "2020-12-05T12:35:40.364428Z",
     "iopub.status.idle": "2020-12-05T12:35:40.474140Z",
     "shell.execute_reply": "2020-12-05T12:35:40.473118Z"
    },
    "papermill": {
     "duration": 0.181414,
     "end_time": "2020-12-05T12:35:40.474258",
     "exception": false,
     "start_time": "2020-12-05T12:35:40.292844",
     "status": "completed"
    },
    "tags": []
   },
   "outputs": [],
   "source": [
    "sub[[\"Patient_Week\",\"FVC\",\"Confidence\"]].to_csv(\"submission_img.csv\", index=False)"
   ]
  },
  {
   "cell_type": "code",
   "execution_count": 20,
   "metadata": {
    "execution": {
     "iopub.execute_input": "2020-12-05T12:35:40.613767Z",
     "iopub.status.busy": "2020-12-05T12:35:40.613096Z",
     "iopub.status.idle": "2020-12-05T12:35:40.616589Z",
     "shell.execute_reply": "2020-12-05T12:35:40.616102Z"
    },
    "papermill": {
     "duration": 0.075843,
     "end_time": "2020-12-05T12:35:40.616682",
     "exception": false,
     "start_time": "2020-12-05T12:35:40.540839",
     "status": "completed"
    },
    "tags": []
   },
   "outputs": [],
   "source": [
    "img_sub = sub[[\"Patient_Week\",\"FVC\",\"Confidence\"]].copy()"
   ]
  },
  {
   "cell_type": "code",
   "execution_count": 21,
   "metadata": {
    "execution": {
     "iopub.execute_input": "2020-12-05T12:35:40.773263Z",
     "iopub.status.busy": "2020-12-05T12:35:40.772286Z",
     "iopub.status.idle": "2020-12-05T12:35:40.776686Z",
     "shell.execute_reply": "2020-12-05T12:35:40.776209Z"
    },
    "papermill": {
     "duration": 0.093513,
     "end_time": "2020-12-05T12:35:40.776804",
     "exception": false,
     "start_time": "2020-12-05T12:35:40.683291",
     "status": "completed"
    },
    "tags": []
   },
   "outputs": [
    {
     "data": {
      "text/html": [
       "<div>\n",
       "<style scoped>\n",
       "    .dataframe tbody tr th:only-of-type {\n",
       "        vertical-align: middle;\n",
       "    }\n",
       "\n",
       "    .dataframe tbody tr th {\n",
       "        vertical-align: top;\n",
       "    }\n",
       "\n",
       "    .dataframe thead th {\n",
       "        text-align: right;\n",
       "    }\n",
       "</style>\n",
       "<table border=\"1\" class=\"dataframe\">\n",
       "  <thead>\n",
       "    <tr style=\"text-align: right;\">\n",
       "      <th></th>\n",
       "      <th>Patient_Week</th>\n",
       "      <th>FVC</th>\n",
       "      <th>Confidence</th>\n",
       "    </tr>\n",
       "  </thead>\n",
       "  <tbody>\n",
       "    <tr>\n",
       "      <th>0</th>\n",
       "      <td>ID00419637202311204720264_-12</td>\n",
       "      <td>3089.912209</td>\n",
       "      <td>140.099064</td>\n",
       "    </tr>\n",
       "    <tr>\n",
       "      <th>1</th>\n",
       "      <td>ID00421637202311550012437_-12</td>\n",
       "      <td>2843.369867</td>\n",
       "      <td>186.415158</td>\n",
       "    </tr>\n",
       "    <tr>\n",
       "      <th>2</th>\n",
       "      <td>ID00422637202311677017371_-12</td>\n",
       "      <td>1999.601912</td>\n",
       "      <td>146.274405</td>\n",
       "    </tr>\n",
       "    <tr>\n",
       "      <th>3</th>\n",
       "      <td>ID00423637202312137826377_-12</td>\n",
       "      <td>3405.996907</td>\n",
       "      <td>191.255810</td>\n",
       "    </tr>\n",
       "    <tr>\n",
       "      <th>4</th>\n",
       "      <td>ID00426637202313170790466_-12</td>\n",
       "      <td>2967.838420</td>\n",
       "      <td>114.663388</td>\n",
       "    </tr>\n",
       "    <tr>\n",
       "      <th>...</th>\n",
       "      <td>...</td>\n",
       "      <td>...</td>\n",
       "      <td>...</td>\n",
       "    </tr>\n",
       "    <tr>\n",
       "      <th>725</th>\n",
       "      <td>ID00419637202311204720264_133</td>\n",
       "      <td>2526.730523</td>\n",
       "      <td>563.456332</td>\n",
       "    </tr>\n",
       "    <tr>\n",
       "      <th>726</th>\n",
       "      <td>ID00421637202311550012437_133</td>\n",
       "      <td>2282.865025</td>\n",
       "      <td>538.180266</td>\n",
       "    </tr>\n",
       "    <tr>\n",
       "      <th>727</th>\n",
       "      <td>ID00422637202311677017371_133</td>\n",
       "      <td>1438.919843</td>\n",
       "      <td>567.752650</td>\n",
       "    </tr>\n",
       "    <tr>\n",
       "      <th>728</th>\n",
       "      <td>ID00423637202312137826377_133</td>\n",
       "      <td>2846.012371</td>\n",
       "      <td>527.246532</td>\n",
       "    </tr>\n",
       "    <tr>\n",
       "      <th>729</th>\n",
       "      <td>ID00426637202313170790466_133</td>\n",
       "      <td>2450.207513</td>\n",
       "      <td>546.617455</td>\n",
       "    </tr>\n",
       "  </tbody>\n",
       "</table>\n",
       "<p>730 rows × 3 columns</p>\n",
       "</div>"
      ],
      "text/plain": [
       "                      Patient_Week          FVC  Confidence\n",
       "0    ID00419637202311204720264_-12  3089.912209  140.099064\n",
       "1    ID00421637202311550012437_-12  2843.369867  186.415158\n",
       "2    ID00422637202311677017371_-12  1999.601912  146.274405\n",
       "3    ID00423637202312137826377_-12  3405.996907  191.255810\n",
       "4    ID00426637202313170790466_-12  2967.838420  114.663388\n",
       "..                             ...          ...         ...\n",
       "725  ID00419637202311204720264_133  2526.730523  563.456332\n",
       "726  ID00421637202311550012437_133  2282.865025  538.180266\n",
       "727  ID00422637202311677017371_133  1438.919843  567.752650\n",
       "728  ID00423637202312137826377_133  2846.012371  527.246532\n",
       "729  ID00426637202313170790466_133  2450.207513  546.617455\n",
       "\n",
       "[730 rows x 3 columns]"
      ]
     },
     "execution_count": 21,
     "metadata": {},
     "output_type": "execute_result"
    }
   ],
   "source": [
    "img_sub"
   ]
  },
  {
   "cell_type": "markdown",
   "metadata": {
    "papermill": {
     "duration": 0.07482,
     "end_time": "2020-12-05T12:35:40.922855",
     "exception": false,
     "start_time": "2020-12-05T12:35:40.848035",
     "status": "completed"
    },
    "tags": []
   },
   "source": [
    "# Osic-Multiple-Quantile-Regression"
   ]
  },
  {
   "cell_type": "code",
   "execution_count": 22,
   "metadata": {
    "execution": {
     "iopub.execute_input": "2020-12-05T12:35:41.080753Z",
     "iopub.status.busy": "2020-12-05T12:35:41.077948Z",
     "iopub.status.idle": "2020-12-05T12:35:41.113129Z",
     "shell.execute_reply": "2020-12-05T12:35:41.113612Z"
    },
    "papermill": {
     "duration": 0.111773,
     "end_time": "2020-12-05T12:35:41.113755",
     "exception": false,
     "start_time": "2020-12-05T12:35:41.001982",
     "status": "completed"
    },
    "tags": []
   },
   "outputs": [
    {
     "name": "stdout",
     "output_type": "stream",
     "text": [
      "add infos\n"
     ]
    }
   ],
   "source": [
    "ROOT = \"../input/osic-pulmonary-fibrosis-progression\"\n",
    "BATCH_SIZE=128\n",
    "\n",
    "tr = pd.read_csv(f\"{ROOT}/train.csv\")\n",
    "tr.drop_duplicates(keep=False, inplace=True, subset=['Patient','Weeks'])\n",
    "chunk = pd.read_csv(f\"{ROOT}/test.csv\")\n",
    "\n",
    "print(\"add infos\")\n",
    "sub = pd.read_csv(f\"{ROOT}/sample_submission.csv\")\n",
    "sub['Patient'] = sub['Patient_Week'].apply(lambda x:x.split('_')[0])\n",
    "sub['Weeks'] = sub['Patient_Week'].apply(lambda x: int(x.split('_')[-1]))\n",
    "sub =  sub[['Patient','Weeks','Confidence','Patient_Week']]\n",
    "sub = sub.merge(chunk.drop('Weeks', axis=1), on=\"Patient\")"
   ]
  },
  {
   "cell_type": "code",
   "execution_count": null,
   "metadata": {
    "papermill": {
     "duration": 0.067459,
     "end_time": "2020-12-05T12:35:41.249154",
     "exception": false,
     "start_time": "2020-12-05T12:35:41.181695",
     "status": "completed"
    },
    "tags": []
   },
   "outputs": [],
   "source": []
  },
  {
   "cell_type": "code",
   "execution_count": 23,
   "metadata": {
    "execution": {
     "iopub.execute_input": "2020-12-05T12:35:41.392990Z",
     "iopub.status.busy": "2020-12-05T12:35:41.392094Z",
     "iopub.status.idle": "2020-12-05T12:35:41.404569Z",
     "shell.execute_reply": "2020-12-05T12:35:41.403981Z"
    },
    "papermill": {
     "duration": 0.087529,
     "end_time": "2020-12-05T12:35:41.404671",
     "exception": false,
     "start_time": "2020-12-05T12:35:41.317142",
     "status": "completed"
    },
    "tags": []
   },
   "outputs": [],
   "source": [
    "tr['WHERE'] = 'train'\n",
    "chunk['WHERE'] = 'val'\n",
    "sub['WHERE'] = 'test'\n",
    "data = tr.append([chunk, sub])"
   ]
  },
  {
   "cell_type": "code",
   "execution_count": null,
   "metadata": {
    "papermill": {
     "duration": 0.070223,
     "end_time": "2020-12-05T12:35:41.543101",
     "exception": false,
     "start_time": "2020-12-05T12:35:41.472878",
     "status": "completed"
    },
    "tags": []
   },
   "outputs": [],
   "source": []
  },
  {
   "cell_type": "code",
   "execution_count": 24,
   "metadata": {
    "execution": {
     "iopub.execute_input": "2020-12-05T12:35:41.687618Z",
     "iopub.status.busy": "2020-12-05T12:35:41.686775Z",
     "iopub.status.idle": "2020-12-05T12:35:41.694278Z",
     "shell.execute_reply": "2020-12-05T12:35:41.693506Z"
    },
    "papermill": {
     "duration": 0.082667,
     "end_time": "2020-12-05T12:35:41.694422",
     "exception": false,
     "start_time": "2020-12-05T12:35:41.611755",
     "status": "completed"
    },
    "tags": []
   },
   "outputs": [
    {
     "name": "stdout",
     "output_type": "stream",
     "text": [
      "(1535, 8) (5, 8) (730, 10) (2270, 10)\n",
      "176 5 5 176\n"
     ]
    }
   ],
   "source": [
    "print(tr.shape, chunk.shape, sub.shape, data.shape)\n",
    "print(tr.Patient.nunique(), chunk.Patient.nunique(), sub.Patient.nunique(), \n",
    "      data.Patient.nunique())\n",
    "#"
   ]
  },
  {
   "cell_type": "code",
   "execution_count": 25,
   "metadata": {
    "execution": {
     "iopub.execute_input": "2020-12-05T12:35:41.840536Z",
     "iopub.status.busy": "2020-12-05T12:35:41.839570Z",
     "iopub.status.idle": "2020-12-05T12:35:41.850219Z",
     "shell.execute_reply": "2020-12-05T12:35:41.850760Z"
    },
    "papermill": {
     "duration": 0.087725,
     "end_time": "2020-12-05T12:35:41.850897",
     "exception": false,
     "start_time": "2020-12-05T12:35:41.763172",
     "status": "completed"
    },
    "tags": []
   },
   "outputs": [],
   "source": [
    "data['min_week'] = data['Weeks']\n",
    "data.loc[data.WHERE=='test','min_week'] = np.nan\n",
    "data['min_week'] = data.groupby('Patient')['min_week'].transform('min')"
   ]
  },
  {
   "cell_type": "code",
   "execution_count": null,
   "metadata": {
    "papermill": {
     "duration": 0.069095,
     "end_time": "2020-12-05T12:35:41.989113",
     "exception": false,
     "start_time": "2020-12-05T12:35:41.920018",
     "status": "completed"
    },
    "tags": []
   },
   "outputs": [],
   "source": []
  },
  {
   "cell_type": "code",
   "execution_count": 26,
   "metadata": {
    "execution": {
     "iopub.execute_input": "2020-12-05T12:35:42.145300Z",
     "iopub.status.busy": "2020-12-05T12:35:42.144515Z",
     "iopub.status.idle": "2020-12-05T12:35:42.147615Z",
     "shell.execute_reply": "2020-12-05T12:35:42.147037Z"
    },
    "papermill": {
     "duration": 0.089534,
     "end_time": "2020-12-05T12:35:42.147729",
     "exception": false,
     "start_time": "2020-12-05T12:35:42.058195",
     "status": "completed"
    },
    "tags": []
   },
   "outputs": [],
   "source": [
    "base = data.loc[data.Weeks == data.min_week]\n",
    "base = base[['Patient','FVC']].copy()\n",
    "base.columns = ['Patient','min_FVC']\n",
    "base['nb'] = 1\n",
    "base['nb'] = base.groupby('Patient')['nb'].transform('cumsum')\n",
    "base = base[base.nb==1]\n",
    "base.drop('nb', axis=1, inplace=True)"
   ]
  },
  {
   "cell_type": "code",
   "execution_count": 27,
   "metadata": {
    "execution": {
     "iopub.execute_input": "2020-12-05T12:35:42.330952Z",
     "iopub.status.busy": "2020-12-05T12:35:42.330327Z",
     "iopub.status.idle": "2020-12-05T12:35:42.340415Z",
     "shell.execute_reply": "2020-12-05T12:35:42.339817Z"
    },
    "papermill": {
     "duration": 0.086861,
     "end_time": "2020-12-05T12:35:42.340511",
     "exception": false,
     "start_time": "2020-12-05T12:35:42.253650",
     "status": "completed"
    },
    "tags": []
   },
   "outputs": [],
   "source": [
    "data = data.merge(base, on='Patient', how='left')\n",
    "data['base_week'] = data['Weeks'] - data['min_week']\n",
    "del base"
   ]
  },
  {
   "cell_type": "code",
   "execution_count": 28,
   "metadata": {
    "execution": {
     "iopub.execute_input": "2020-12-05T12:35:42.512851Z",
     "iopub.status.busy": "2020-12-05T12:35:42.511783Z",
     "iopub.status.idle": "2020-12-05T12:35:42.516551Z",
     "shell.execute_reply": "2020-12-05T12:35:42.516024Z"
    },
    "papermill": {
     "duration": 0.107293,
     "end_time": "2020-12-05T12:35:42.516646",
     "exception": false,
     "start_time": "2020-12-05T12:35:42.409353",
     "status": "completed"
    },
    "tags": []
   },
   "outputs": [
    {
     "data": {
      "text/html": [
       "<div>\n",
       "<style scoped>\n",
       "    .dataframe tbody tr th:only-of-type {\n",
       "        vertical-align: middle;\n",
       "    }\n",
       "\n",
       "    .dataframe tbody tr th {\n",
       "        vertical-align: top;\n",
       "    }\n",
       "\n",
       "    .dataframe thead th {\n",
       "        text-align: right;\n",
       "    }\n",
       "</style>\n",
       "<table border=\"1\" class=\"dataframe\">\n",
       "  <thead>\n",
       "    <tr style=\"text-align: right;\">\n",
       "      <th></th>\n",
       "      <th>Patient</th>\n",
       "      <th>Weeks</th>\n",
       "      <th>FVC</th>\n",
       "      <th>Percent</th>\n",
       "      <th>Age</th>\n",
       "      <th>Sex</th>\n",
       "      <th>SmokingStatus</th>\n",
       "      <th>WHERE</th>\n",
       "      <th>Confidence</th>\n",
       "      <th>Patient_Week</th>\n",
       "      <th>min_week</th>\n",
       "      <th>min_FVC</th>\n",
       "      <th>base_week</th>\n",
       "    </tr>\n",
       "  </thead>\n",
       "  <tbody>\n",
       "    <tr>\n",
       "      <th>0</th>\n",
       "      <td>ID00007637202177411956430</td>\n",
       "      <td>-4</td>\n",
       "      <td>2315</td>\n",
       "      <td>58.253649</td>\n",
       "      <td>79</td>\n",
       "      <td>Male</td>\n",
       "      <td>Ex-smoker</td>\n",
       "      <td>train</td>\n",
       "      <td>NaN</td>\n",
       "      <td>NaN</td>\n",
       "      <td>-4.0</td>\n",
       "      <td>2315</td>\n",
       "      <td>0.0</td>\n",
       "    </tr>\n",
       "    <tr>\n",
       "      <th>1</th>\n",
       "      <td>ID00007637202177411956430</td>\n",
       "      <td>5</td>\n",
       "      <td>2214</td>\n",
       "      <td>55.712129</td>\n",
       "      <td>79</td>\n",
       "      <td>Male</td>\n",
       "      <td>Ex-smoker</td>\n",
       "      <td>train</td>\n",
       "      <td>NaN</td>\n",
       "      <td>NaN</td>\n",
       "      <td>-4.0</td>\n",
       "      <td>2315</td>\n",
       "      <td>9.0</td>\n",
       "    </tr>\n",
       "    <tr>\n",
       "      <th>2</th>\n",
       "      <td>ID00007637202177411956430</td>\n",
       "      <td>7</td>\n",
       "      <td>2061</td>\n",
       "      <td>51.862104</td>\n",
       "      <td>79</td>\n",
       "      <td>Male</td>\n",
       "      <td>Ex-smoker</td>\n",
       "      <td>train</td>\n",
       "      <td>NaN</td>\n",
       "      <td>NaN</td>\n",
       "      <td>-4.0</td>\n",
       "      <td>2315</td>\n",
       "      <td>11.0</td>\n",
       "    </tr>\n",
       "    <tr>\n",
       "      <th>3</th>\n",
       "      <td>ID00007637202177411956430</td>\n",
       "      <td>9</td>\n",
       "      <td>2144</td>\n",
       "      <td>53.950679</td>\n",
       "      <td>79</td>\n",
       "      <td>Male</td>\n",
       "      <td>Ex-smoker</td>\n",
       "      <td>train</td>\n",
       "      <td>NaN</td>\n",
       "      <td>NaN</td>\n",
       "      <td>-4.0</td>\n",
       "      <td>2315</td>\n",
       "      <td>13.0</td>\n",
       "    </tr>\n",
       "    <tr>\n",
       "      <th>4</th>\n",
       "      <td>ID00007637202177411956430</td>\n",
       "      <td>11</td>\n",
       "      <td>2069</td>\n",
       "      <td>52.063412</td>\n",
       "      <td>79</td>\n",
       "      <td>Male</td>\n",
       "      <td>Ex-smoker</td>\n",
       "      <td>train</td>\n",
       "      <td>NaN</td>\n",
       "      <td>NaN</td>\n",
       "      <td>-4.0</td>\n",
       "      <td>2315</td>\n",
       "      <td>15.0</td>\n",
       "    </tr>\n",
       "    <tr>\n",
       "      <th>...</th>\n",
       "      <td>...</td>\n",
       "      <td>...</td>\n",
       "      <td>...</td>\n",
       "      <td>...</td>\n",
       "      <td>...</td>\n",
       "      <td>...</td>\n",
       "      <td>...</td>\n",
       "      <td>...</td>\n",
       "      <td>...</td>\n",
       "      <td>...</td>\n",
       "      <td>...</td>\n",
       "      <td>...</td>\n",
       "      <td>...</td>\n",
       "    </tr>\n",
       "    <tr>\n",
       "      <th>2265</th>\n",
       "      <td>ID00426637202313170790466</td>\n",
       "      <td>129</td>\n",
       "      <td>2925</td>\n",
       "      <td>71.824968</td>\n",
       "      <td>73</td>\n",
       "      <td>Male</td>\n",
       "      <td>Never smoked</td>\n",
       "      <td>test</td>\n",
       "      <td>100.0</td>\n",
       "      <td>ID00426637202313170790466_129</td>\n",
       "      <td>0.0</td>\n",
       "      <td>2925</td>\n",
       "      <td>129.0</td>\n",
       "    </tr>\n",
       "    <tr>\n",
       "      <th>2266</th>\n",
       "      <td>ID00426637202313170790466</td>\n",
       "      <td>130</td>\n",
       "      <td>2925</td>\n",
       "      <td>71.824968</td>\n",
       "      <td>73</td>\n",
       "      <td>Male</td>\n",
       "      <td>Never smoked</td>\n",
       "      <td>test</td>\n",
       "      <td>100.0</td>\n",
       "      <td>ID00426637202313170790466_130</td>\n",
       "      <td>0.0</td>\n",
       "      <td>2925</td>\n",
       "      <td>130.0</td>\n",
       "    </tr>\n",
       "    <tr>\n",
       "      <th>2267</th>\n",
       "      <td>ID00426637202313170790466</td>\n",
       "      <td>131</td>\n",
       "      <td>2925</td>\n",
       "      <td>71.824968</td>\n",
       "      <td>73</td>\n",
       "      <td>Male</td>\n",
       "      <td>Never smoked</td>\n",
       "      <td>test</td>\n",
       "      <td>100.0</td>\n",
       "      <td>ID00426637202313170790466_131</td>\n",
       "      <td>0.0</td>\n",
       "      <td>2925</td>\n",
       "      <td>131.0</td>\n",
       "    </tr>\n",
       "    <tr>\n",
       "      <th>2268</th>\n",
       "      <td>ID00426637202313170790466</td>\n",
       "      <td>132</td>\n",
       "      <td>2925</td>\n",
       "      <td>71.824968</td>\n",
       "      <td>73</td>\n",
       "      <td>Male</td>\n",
       "      <td>Never smoked</td>\n",
       "      <td>test</td>\n",
       "      <td>100.0</td>\n",
       "      <td>ID00426637202313170790466_132</td>\n",
       "      <td>0.0</td>\n",
       "      <td>2925</td>\n",
       "      <td>132.0</td>\n",
       "    </tr>\n",
       "    <tr>\n",
       "      <th>2269</th>\n",
       "      <td>ID00426637202313170790466</td>\n",
       "      <td>133</td>\n",
       "      <td>2925</td>\n",
       "      <td>71.824968</td>\n",
       "      <td>73</td>\n",
       "      <td>Male</td>\n",
       "      <td>Never smoked</td>\n",
       "      <td>test</td>\n",
       "      <td>100.0</td>\n",
       "      <td>ID00426637202313170790466_133</td>\n",
       "      <td>0.0</td>\n",
       "      <td>2925</td>\n",
       "      <td>133.0</td>\n",
       "    </tr>\n",
       "  </tbody>\n",
       "</table>\n",
       "<p>2270 rows × 13 columns</p>\n",
       "</div>"
      ],
      "text/plain": [
       "                        Patient  Weeks   FVC    Percent  Age   Sex  \\\n",
       "0     ID00007637202177411956430     -4  2315  58.253649   79  Male   \n",
       "1     ID00007637202177411956430      5  2214  55.712129   79  Male   \n",
       "2     ID00007637202177411956430      7  2061  51.862104   79  Male   \n",
       "3     ID00007637202177411956430      9  2144  53.950679   79  Male   \n",
       "4     ID00007637202177411956430     11  2069  52.063412   79  Male   \n",
       "...                         ...    ...   ...        ...  ...   ...   \n",
       "2265  ID00426637202313170790466    129  2925  71.824968   73  Male   \n",
       "2266  ID00426637202313170790466    130  2925  71.824968   73  Male   \n",
       "2267  ID00426637202313170790466    131  2925  71.824968   73  Male   \n",
       "2268  ID00426637202313170790466    132  2925  71.824968   73  Male   \n",
       "2269  ID00426637202313170790466    133  2925  71.824968   73  Male   \n",
       "\n",
       "     SmokingStatus  WHERE  Confidence                   Patient_Week  \\\n",
       "0        Ex-smoker  train         NaN                            NaN   \n",
       "1        Ex-smoker  train         NaN                            NaN   \n",
       "2        Ex-smoker  train         NaN                            NaN   \n",
       "3        Ex-smoker  train         NaN                            NaN   \n",
       "4        Ex-smoker  train         NaN                            NaN   \n",
       "...            ...    ...         ...                            ...   \n",
       "2265  Never smoked   test       100.0  ID00426637202313170790466_129   \n",
       "2266  Never smoked   test       100.0  ID00426637202313170790466_130   \n",
       "2267  Never smoked   test       100.0  ID00426637202313170790466_131   \n",
       "2268  Never smoked   test       100.0  ID00426637202313170790466_132   \n",
       "2269  Never smoked   test       100.0  ID00426637202313170790466_133   \n",
       "\n",
       "      min_week  min_FVC  base_week  \n",
       "0         -4.0     2315        0.0  \n",
       "1         -4.0     2315        9.0  \n",
       "2         -4.0     2315       11.0  \n",
       "3         -4.0     2315       13.0  \n",
       "4         -4.0     2315       15.0  \n",
       "...        ...      ...        ...  \n",
       "2265       0.0     2925      129.0  \n",
       "2266       0.0     2925      130.0  \n",
       "2267       0.0     2925      131.0  \n",
       "2268       0.0     2925      132.0  \n",
       "2269       0.0     2925      133.0  \n",
       "\n",
       "[2270 rows x 13 columns]"
      ]
     },
     "execution_count": 28,
     "metadata": {},
     "output_type": "execute_result"
    }
   ],
   "source": [
    "data"
   ]
  },
  {
   "cell_type": "code",
   "execution_count": 29,
   "metadata": {
    "execution": {
     "iopub.execute_input": "2020-12-05T12:35:42.692849Z",
     "iopub.status.busy": "2020-12-05T12:35:42.691359Z",
     "iopub.status.idle": "2020-12-05T12:35:42.700468Z",
     "shell.execute_reply": "2020-12-05T12:35:42.699838Z"
    },
    "papermill": {
     "duration": 0.097544,
     "end_time": "2020-12-05T12:35:42.700593",
     "exception": false,
     "start_time": "2020-12-05T12:35:42.603049",
     "status": "completed"
    },
    "tags": []
   },
   "outputs": [],
   "source": [
    "COLS = ['Sex','SmokingStatus'] #,'Age'\n",
    "FE = []\n",
    "for col in COLS:\n",
    "    for mod in data[col].unique():\n",
    "        FE.append(mod)\n",
    "        data[mod] = (data[col] == mod).astype(int)"
   ]
  },
  {
   "cell_type": "code",
   "execution_count": 30,
   "metadata": {
    "execution": {
     "iopub.execute_input": "2020-12-05T12:35:42.871619Z",
     "iopub.status.busy": "2020-12-05T12:35:42.871044Z",
     "iopub.status.idle": "2020-12-05T12:35:42.874764Z",
     "shell.execute_reply": "2020-12-05T12:35:42.875337Z"
    },
    "papermill": {
     "duration": 0.091342,
     "end_time": "2020-12-05T12:35:42.875474",
     "exception": false,
     "start_time": "2020-12-05T12:35:42.784132",
     "status": "completed"
    },
    "tags": []
   },
   "outputs": [],
   "source": [
    "#\n",
    "data['age'] = (data['Age'] - data['Age'].min() ) / ( data['Age'].max() - data['Age'].min() )\n",
    "data['BASE'] = (data['min_FVC'] - data['min_FVC'].min() ) / ( data['min_FVC'].max() - data['min_FVC'].min() )\n",
    "data['week'] = (data['base_week'] - data['base_week'].min() ) / ( data['base_week'].max() - data['base_week'].min() )\n",
    "data['percent'] = (data['Percent'] - data['Percent'].min() ) / ( data['Percent'].max() - data['Percent'].min() )\n",
    "FE += ['age','week','BASE']"
   ]
  },
  {
   "cell_type": "code",
   "execution_count": 31,
   "metadata": {
    "execution": {
     "iopub.execute_input": "2020-12-05T12:35:43.029073Z",
     "iopub.status.busy": "2020-12-05T12:35:43.028131Z",
     "iopub.status.idle": "2020-12-05T12:35:43.035903Z",
     "shell.execute_reply": "2020-12-05T12:35:43.035276Z"
    },
    "papermill": {
     "duration": 0.088035,
     "end_time": "2020-12-05T12:35:43.036007",
     "exception": false,
     "start_time": "2020-12-05T12:35:42.947972",
     "status": "completed"
    },
    "tags": []
   },
   "outputs": [],
   "source": [
    "tr = data.loc[data.WHERE=='train']\n",
    "chunk = data.loc[data.WHERE=='val']\n",
    "sub = data.loc[data.WHERE=='test']\n",
    "del data"
   ]
  },
  {
   "cell_type": "code",
   "execution_count": 32,
   "metadata": {
    "execution": {
     "iopub.execute_input": "2020-12-05T12:35:43.188477Z",
     "iopub.status.busy": "2020-12-05T12:35:43.187658Z",
     "iopub.status.idle": "2020-12-05T12:35:43.190941Z",
     "shell.execute_reply": "2020-12-05T12:35:43.191499Z"
    },
    "papermill": {
     "duration": 0.078952,
     "end_time": "2020-12-05T12:35:43.191614",
     "exception": false,
     "start_time": "2020-12-05T12:35:43.112662",
     "status": "completed"
    },
    "tags": []
   },
   "outputs": [
    {
     "data": {
      "text/plain": [
       "((1535, 22), (5, 22), (730, 22))"
      ]
     },
     "execution_count": 32,
     "metadata": {},
     "output_type": "execute_result"
    }
   ],
   "source": [
    "tr.shape, chunk.shape, sub.shape"
   ]
  },
  {
   "cell_type": "code",
   "execution_count": null,
   "metadata": {
    "papermill": {
     "duration": 0.070471,
     "end_time": "2020-12-05T12:35:43.332906",
     "exception": false,
     "start_time": "2020-12-05T12:35:43.262435",
     "status": "completed"
    },
    "tags": []
   },
   "outputs": [],
   "source": []
  },
  {
   "cell_type": "code",
   "execution_count": 33,
   "metadata": {
    "execution": {
     "iopub.execute_input": "2020-12-05T12:35:43.495521Z",
     "iopub.status.busy": "2020-12-05T12:35:43.494618Z",
     "iopub.status.idle": "2020-12-05T12:35:43.497500Z",
     "shell.execute_reply": "2020-12-05T12:35:43.496992Z"
    },
    "papermill": {
     "duration": 0.094325,
     "end_time": "2020-12-05T12:35:43.497598",
     "exception": false,
     "start_time": "2020-12-05T12:35:43.403273",
     "status": "completed"
    },
    "tags": []
   },
   "outputs": [],
   "source": [
    "C1, C2 = tf.constant(70, dtype='float32'), tf.constant(1000, dtype=\"float32\")\n",
    "\n",
    "def score(y_true, y_pred):\n",
    "    tf.dtypes.cast(y_true, tf.float32)\n",
    "    tf.dtypes.cast(y_pred, tf.float32)\n",
    "    sigma = y_pred[:, 2] - y_pred[:, 0]\n",
    "    fvc_pred = y_pred[:, 1]\n",
    "    \n",
    "    #sigma_clip = sigma + C1\n",
    "    sigma_clip = tf.maximum(sigma, C1)\n",
    "    delta = tf.abs(y_true[:, 0] - fvc_pred)\n",
    "    delta = tf.minimum(delta, C2)\n",
    "    sq2 = tf.sqrt( tf.dtypes.cast(2, dtype=tf.float32) )\n",
    "    metric = (delta / sigma_clip)*sq2 + tf.math.log(sigma_clip* sq2)\n",
    "    return K.mean(metric)\n",
    "\n",
    "def qloss(y_true, y_pred):\n",
    "    # Pinball loss for multiple quantiles\n",
    "    qs = [0.2, 0.50, 0.8]\n",
    "    q = tf.constant(np.array([qs]), dtype=tf.float32)\n",
    "    e = y_true - y_pred\n",
    "    v = tf.maximum(q*e, (q-1)*e)\n",
    "    return K.mean(v)\n",
    "\n",
    "def mloss(_lambda):\n",
    "    def loss(y_true, y_pred):\n",
    "        return _lambda * qloss(y_true, y_pred) + (1 - _lambda)*score(y_true, y_pred)\n",
    "    return loss\n",
    "\n",
    "def make_model(nh):\n",
    "    z = L.Input((nh,), name=\"Patient\")\n",
    "    x = L.Dense(100, activation=\"relu\", name=\"d1\")(z)\n",
    "    x = L.Dense(100, activation=\"relu\", name=\"d2\")(x)\n",
    "    #x = L.Dense(100, activation=\"relu\", name=\"d3\")(x)\n",
    "    p1 = L.Dense(3, activation=\"linear\", name=\"p1\")(x)\n",
    "    p2 = L.Dense(3, activation=\"relu\", name=\"p2\")(x)\n",
    "    preds = L.Lambda(lambda x: x[0] + tf.cumsum(x[1], axis=1), \n",
    "                     name=\"preds\")([p1, p2])\n",
    "    \n",
    "    model = M.Model(z, preds, name=\"CNN\")\n",
    "    #model.compile(loss=qloss, optimizer=\"adam\", metrics=[score])\n",
    "    model.compile(loss=mloss(0.8), optimizer=tf.keras.optimizers.Adam(lr=0.09, beta_1=0.9, beta_2=0.999, epsilon=None, decay=0.01, amsgrad=False), metrics=[score])\n",
    "    return model"
   ]
  },
  {
   "cell_type": "code",
   "execution_count": 34,
   "metadata": {
    "execution": {
     "iopub.execute_input": "2020-12-05T12:35:43.648903Z",
     "iopub.status.busy": "2020-12-05T12:35:43.648157Z",
     "iopub.status.idle": "2020-12-05T12:35:43.651839Z",
     "shell.execute_reply": "2020-12-05T12:35:43.651342Z"
    },
    "papermill": {
     "duration": 0.082719,
     "end_time": "2020-12-05T12:35:43.651939",
     "exception": false,
     "start_time": "2020-12-05T12:35:43.569220",
     "status": "completed"
    },
    "tags": []
   },
   "outputs": [],
   "source": [
    "y = tr['FVC'].values\n",
    "z = tr[FE].values\n",
    "ze = sub[FE].values\n",
    "nh = z.shape[1]\n",
    "pe = np.zeros((ze.shape[0], 3))\n",
    "pred = np.zeros((z.shape[0], 3))"
   ]
  },
  {
   "cell_type": "code",
   "execution_count": null,
   "metadata": {
    "papermill": {
     "duration": 0.070707,
     "end_time": "2020-12-05T12:35:43.793073",
     "exception": false,
     "start_time": "2020-12-05T12:35:43.722366",
     "status": "completed"
    },
    "tags": []
   },
   "outputs": [],
   "source": []
  },
  {
   "cell_type": "code",
   "execution_count": null,
   "metadata": {
    "papermill": {
     "duration": 0.07042,
     "end_time": "2020-12-05T12:35:43.934554",
     "exception": false,
     "start_time": "2020-12-05T12:35:43.864134",
     "status": "completed"
    },
    "tags": []
   },
   "outputs": [],
   "source": []
  },
  {
   "cell_type": "code",
   "execution_count": 35,
   "metadata": {
    "execution": {
     "iopub.execute_input": "2020-12-05T12:35:44.083685Z",
     "iopub.status.busy": "2020-12-05T12:35:44.082554Z",
     "iopub.status.idle": "2020-12-05T12:35:44.160528Z",
     "shell.execute_reply": "2020-12-05T12:35:44.161481Z"
    },
    "papermill": {
     "duration": 0.156437,
     "end_time": "2020-12-05T12:35:44.161635",
     "exception": false,
     "start_time": "2020-12-05T12:35:44.005198",
     "status": "completed"
    },
    "tags": []
   },
   "outputs": [
    {
     "name": "stdout",
     "output_type": "stream",
     "text": [
      "Model: \"CNN\"\n",
      "__________________________________________________________________________________________________\n",
      "Layer (type)                    Output Shape         Param #     Connected to                     \n",
      "==================================================================================================\n",
      "Patient (InputLayer)            [(None, 8)]          0                                            \n",
      "__________________________________________________________________________________________________\n",
      "d1 (Dense)                      (None, 100)          900         Patient[0][0]                    \n",
      "__________________________________________________________________________________________________\n",
      "d2 (Dense)                      (None, 100)          10100       d1[0][0]                         \n",
      "__________________________________________________________________________________________________\n",
      "p1 (Dense)                      (None, 3)            303         d2[0][0]                         \n",
      "__________________________________________________________________________________________________\n",
      "p2 (Dense)                      (None, 3)            303         d2[0][0]                         \n",
      "__________________________________________________________________________________________________\n",
      "preds (Lambda)                  (None, 3)            0           p1[0][0]                         \n",
      "                                                                 p2[0][0]                         \n",
      "==================================================================================================\n",
      "Total params: 11,606\n",
      "Trainable params: 11,606\n",
      "Non-trainable params: 0\n",
      "__________________________________________________________________________________________________\n",
      "None\n",
      "11606\n"
     ]
    }
   ],
   "source": [
    "net = make_model(nh)\n",
    "print(net.summary())\n",
    "print(net.count_params())"
   ]
  },
  {
   "cell_type": "code",
   "execution_count": 36,
   "metadata": {
    "execution": {
     "iopub.execute_input": "2020-12-05T12:35:44.309579Z",
     "iopub.status.busy": "2020-12-05T12:35:44.308840Z",
     "iopub.status.idle": "2020-12-05T12:35:44.311412Z",
     "shell.execute_reply": "2020-12-05T12:35:44.311891Z"
    },
    "papermill": {
     "duration": 0.078545,
     "end_time": "2020-12-05T12:35:44.312015",
     "exception": false,
     "start_time": "2020-12-05T12:35:44.233470",
     "status": "completed"
    },
    "tags": []
   },
   "outputs": [],
   "source": [
    "NFOLD = 2 # originally 5\n",
    "kf = KFold(n_splits=NFOLD)"
   ]
  },
  {
   "cell_type": "code",
   "execution_count": 37,
   "metadata": {
    "execution": {
     "iopub.execute_input": "2020-12-05T12:35:44.467544Z",
     "iopub.status.busy": "2020-12-05T12:35:44.464271Z",
     "iopub.status.idle": "2020-12-05T12:36:50.951274Z",
     "shell.execute_reply": "2020-12-05T12:36:50.952051Z"
    },
    "papermill": {
     "duration": 66.568053,
     "end_time": "2020-12-05T12:36:50.952239",
     "exception": false,
     "start_time": "2020-12-05T12:35:44.384186",
     "status": "completed"
    },
    "tags": []
   },
   "outputs": [
    {
     "name": "stdout",
     "output_type": "stream",
     "text": [
      "FOLD 1\n",
      "train [45.42180252075195, 6.58517599105835]\n",
      "val [56.82666015625, 6.788679599761963]\n",
      "predict val...\n",
      "predict test...\n",
      "FOLD 2\n",
      "train [50.09426498413086, 6.636465549468994]\n",
      "val [51.11012268066406, 6.700071811676025]\n",
      "predict val...\n",
      "predict test...\n",
      "CPU times: user 1min 11s, sys: 3.91 s, total: 1min 15s\n",
      "Wall time: 1min 6s\n"
     ]
    }
   ],
   "source": [
    "%%time\n",
    "cnt = 0\n",
    "EPOCHS = 700\n",
    "for tr_idx, val_idx in kf.split(z):\n",
    "    cnt += 1\n",
    "    print(f\"FOLD {cnt}\")\n",
    "    net = make_model(nh)\n",
    "    net.fit(z[tr_idx], y[tr_idx], batch_size=BATCH_SIZE, epochs=EPOCHS, \n",
    "            validation_data=(z[val_idx], y[val_idx]), verbose=0) #\n",
    "    print(\"train\", net.evaluate(z[tr_idx], y[tr_idx], verbose=0, batch_size=BATCH_SIZE))\n",
    "    print(\"val\", net.evaluate(z[val_idx], y[val_idx], verbose=0, batch_size=BATCH_SIZE))\n",
    "    print(\"predict val...\")\n",
    "    pred[val_idx] = net.predict(z[val_idx], batch_size=BATCH_SIZE, verbose=0)\n",
    "    print(\"predict test...\")\n",
    "    pe += net.predict(ze, batch_size=BATCH_SIZE, verbose=0) / NFOLD"
   ]
  },
  {
   "cell_type": "code",
   "execution_count": 38,
   "metadata": {
    "execution": {
     "iopub.execute_input": "2020-12-05T12:36:51.104123Z",
     "iopub.status.busy": "2020-12-05T12:36:51.103380Z",
     "iopub.status.idle": "2020-12-05T12:36:51.108677Z",
     "shell.execute_reply": "2020-12-05T12:36:51.108195Z"
    },
    "papermill": {
     "duration": 0.083662,
     "end_time": "2020-12-05T12:36:51.108796",
     "exception": false,
     "start_time": "2020-12-05T12:36:51.025134",
     "status": "completed"
    },
    "tags": []
   },
   "outputs": [
    {
     "data": {
      "text/plain": [
       "array([[2160.12109375, 2304.78442383, 2428.55664062],\n",
       "       [2137.86083984, 2282.73657227, 2407.16748047],\n",
       "       [2132.9140625 , 2277.83691406, 2402.4140625 ],\n",
       "       ...,\n",
       "       [2633.18994141, 2813.74707031, 2945.36010742],\n",
       "       [2553.57861328, 2763.72998047, 2917.88354492],\n",
       "       [2477.70532227, 2715.6484375 , 2891.16943359]])"
      ]
     },
     "execution_count": 38,
     "metadata": {},
     "output_type": "execute_result"
    }
   ],
   "source": [
    "pred"
   ]
  },
  {
   "cell_type": "code",
   "execution_count": 39,
   "metadata": {
    "execution": {
     "iopub.execute_input": "2020-12-05T12:36:51.262675Z",
     "iopub.status.busy": "2020-12-05T12:36:51.262020Z",
     "iopub.status.idle": "2020-12-05T12:36:51.267359Z",
     "shell.execute_reply": "2020-12-05T12:36:51.267964Z"
    },
    "papermill": {
     "duration": 0.084865,
     "end_time": "2020-12-05T12:36:51.268113",
     "exception": false,
     "start_time": "2020-12-05T12:36:51.183248",
     "status": "completed"
    },
    "tags": []
   },
   "outputs": [
    {
     "name": "stdout",
     "output_type": "stream",
     "text": [
      "154.9213054048122 257.8424310044279\n"
     ]
    }
   ],
   "source": [
    "sigma_opt = mean_absolute_error(y, pred[:, 1])\n",
    "unc = pred[:,2] - pred[:, 0]\n",
    "sigma_mean = np.mean(unc)\n",
    "print(sigma_opt, sigma_mean)"
   ]
  },
  {
   "cell_type": "code",
   "execution_count": null,
   "metadata": {
    "papermill": {
     "duration": 0.073324,
     "end_time": "2020-12-05T12:36:51.415971",
     "exception": false,
     "start_time": "2020-12-05T12:36:51.342647",
     "status": "completed"
    },
    "tags": []
   },
   "outputs": [],
   "source": []
  },
  {
   "cell_type": "code",
   "execution_count": 40,
   "metadata": {
    "execution": {
     "iopub.execute_input": "2020-12-05T12:36:51.580131Z",
     "iopub.status.busy": "2020-12-05T12:36:51.578817Z",
     "iopub.status.idle": "2020-12-05T12:36:51.757231Z",
     "shell.execute_reply": "2020-12-05T12:36:51.757713Z"
    },
    "papermill": {
     "duration": 0.266824,
     "end_time": "2020-12-05T12:36:51.757852",
     "exception": false,
     "start_time": "2020-12-05T12:36:51.491028",
     "status": "completed"
    },
    "tags": []
   },
   "outputs": [
    {
     "data": {
      "image/png": "[encoded data removed]",
      "text/plain": [
       "<Figure size 432x288 with 1 Axes>"
      ]
     },
     "metadata": {
      "needs_background": "light"
     },
     "output_type": "display_data"
    }
   ],
   "source": [
    "idxs = np.random.randint(0, y.shape[0], 100)\n",
    "plt.plot(y[idxs], label=\"ground truth\")\n",
    "plt.plot(pred[idxs, 0], label=\"q25\")\n",
    "plt.plot(pred[idxs, 1], label=\"q50\")\n",
    "plt.plot(pred[idxs, 2], label=\"q75\")\n",
    "plt.legend(loc=\"best\")\n",
    "plt.show()"
   ]
  },
  {
   "cell_type": "code",
   "execution_count": 41,
   "metadata": {
    "execution": {
     "iopub.execute_input": "2020-12-05T12:36:51.915292Z",
     "iopub.status.busy": "2020-12-05T12:36:51.914494Z",
     "iopub.status.idle": "2020-12-05T12:36:51.920629Z",
     "shell.execute_reply": "2020-12-05T12:36:51.919964Z"
    },
    "papermill": {
     "duration": 0.087484,
     "end_time": "2020-12-05T12:36:51.920767",
     "exception": false,
     "start_time": "2020-12-05T12:36:51.833283",
     "status": "completed"
    },
    "tags": []
   },
   "outputs": [
    {
     "name": "stdout",
     "output_type": "stream",
     "text": [
      "64.79833984375 257.8424310044279 465.8740234375 1.0\n"
     ]
    }
   ],
   "source": [
    "print(unc.min(), unc.mean(), unc.max(), (unc>=0).mean())"
   ]
  },
  {
   "cell_type": "code",
   "execution_count": 42,
   "metadata": {
    "execution": {
     "iopub.execute_input": "2020-12-05T12:36:52.083883Z",
     "iopub.status.busy": "2020-12-05T12:36:52.082538Z",
     "iopub.status.idle": "2020-12-05T12:36:52.233242Z",
     "shell.execute_reply": "2020-12-05T12:36:52.233744Z"
    },
    "papermill": {
     "duration": 0.236703,
     "end_time": "2020-12-05T12:36:52.233865",
     "exception": false,
     "start_time": "2020-12-05T12:36:51.997162",
     "status": "completed"
    },
    "tags": []
   },
   "outputs": [
    {
     "data": {
      "image/png": "[encoded data removed]",
      "text/plain": [
       "<Figure size 432x288 with 1 Axes>"
      ]
     },
     "metadata": {
      "needs_background": "light"
     },
     "output_type": "display_data"
    }
   ],
   "source": [
    "plt.hist(unc)\n",
    "plt.title(\"uncertainty in prediction\")\n",
    "plt.show()"
   ]
  },
  {
   "cell_type": "code",
   "execution_count": 43,
   "metadata": {
    "execution": {
     "iopub.execute_input": "2020-12-05T12:36:52.452680Z",
     "iopub.status.busy": "2020-12-05T12:36:52.452077Z",
     "iopub.status.idle": "2020-12-05T12:36:52.470445Z",
     "shell.execute_reply": "2020-12-05T12:36:52.469587Z"
    },
    "papermill": {
     "duration": 0.158906,
     "end_time": "2020-12-05T12:36:52.470590",
     "exception": false,
     "start_time": "2020-12-05T12:36:52.311684",
     "status": "completed"
    },
    "tags": []
   },
   "outputs": [
    {
     "data": {
      "text/html": [
       "<div>\n",
       "<style scoped>\n",
       "    .dataframe tbody tr th:only-of-type {\n",
       "        vertical-align: middle;\n",
       "    }\n",
       "\n",
       "    .dataframe tbody tr th {\n",
       "        vertical-align: top;\n",
       "    }\n",
       "\n",
       "    .dataframe thead th {\n",
       "        text-align: right;\n",
       "    }\n",
       "</style>\n",
       "<table border=\"1\" class=\"dataframe\">\n",
       "  <thead>\n",
       "    <tr style=\"text-align: right;\">\n",
       "      <th></th>\n",
       "      <th>Patient</th>\n",
       "      <th>Weeks</th>\n",
       "      <th>FVC</th>\n",
       "      <th>Percent</th>\n",
       "      <th>Age</th>\n",
       "      <th>Sex</th>\n",
       "      <th>SmokingStatus</th>\n",
       "      <th>WHERE</th>\n",
       "      <th>Confidence</th>\n",
       "      <th>Patient_Week</th>\n",
       "      <th>...</th>\n",
       "      <th>base_week</th>\n",
       "      <th>Male</th>\n",
       "      <th>Female</th>\n",
       "      <th>Ex-smoker</th>\n",
       "      <th>Never smoked</th>\n",
       "      <th>Currently smokes</th>\n",
       "      <th>age</th>\n",
       "      <th>BASE</th>\n",
       "      <th>week</th>\n",
       "      <th>percent</th>\n",
       "    </tr>\n",
       "  </thead>\n",
       "  <tbody>\n",
       "    <tr>\n",
       "      <th>1540</th>\n",
       "      <td>ID00419637202311204720264</td>\n",
       "      <td>-12</td>\n",
       "      <td>3020</td>\n",
       "      <td>70.186855</td>\n",
       "      <td>73</td>\n",
       "      <td>Male</td>\n",
       "      <td>Ex-smoker</td>\n",
       "      <td>test</td>\n",
       "      <td>100.0</td>\n",
       "      <td>ID00419637202311204720264_-12</td>\n",
       "      <td>...</td>\n",
       "      <td>-18.0</td>\n",
       "      <td>1</td>\n",
       "      <td>0</td>\n",
       "      <td>1</td>\n",
       "      <td>0</td>\n",
       "      <td>0</td>\n",
       "      <td>0.615385</td>\n",
       "      <td>0.3724</td>\n",
       "      <td>0.067901</td>\n",
       "      <td>0.332421</td>\n",
       "    </tr>\n",
       "    <tr>\n",
       "      <th>1541</th>\n",
       "      <td>ID00419637202311204720264</td>\n",
       "      <td>-11</td>\n",
       "      <td>3020</td>\n",
       "      <td>70.186855</td>\n",
       "      <td>73</td>\n",
       "      <td>Male</td>\n",
       "      <td>Ex-smoker</td>\n",
       "      <td>test</td>\n",
       "      <td>100.0</td>\n",
       "      <td>ID00419637202311204720264_-11</td>\n",
       "      <td>...</td>\n",
       "      <td>-17.0</td>\n",
       "      <td>1</td>\n",
       "      <td>0</td>\n",
       "      <td>1</td>\n",
       "      <td>0</td>\n",
       "      <td>0</td>\n",
       "      <td>0.615385</td>\n",
       "      <td>0.3724</td>\n",
       "      <td>0.074074</td>\n",
       "      <td>0.332421</td>\n",
       "    </tr>\n",
       "    <tr>\n",
       "      <th>1542</th>\n",
       "      <td>ID00419637202311204720264</td>\n",
       "      <td>-10</td>\n",
       "      <td>3020</td>\n",
       "      <td>70.186855</td>\n",
       "      <td>73</td>\n",
       "      <td>Male</td>\n",
       "      <td>Ex-smoker</td>\n",
       "      <td>test</td>\n",
       "      <td>100.0</td>\n",
       "      <td>ID00419637202311204720264_-10</td>\n",
       "      <td>...</td>\n",
       "      <td>-16.0</td>\n",
       "      <td>1</td>\n",
       "      <td>0</td>\n",
       "      <td>1</td>\n",
       "      <td>0</td>\n",
       "      <td>0</td>\n",
       "      <td>0.615385</td>\n",
       "      <td>0.3724</td>\n",
       "      <td>0.080247</td>\n",
       "      <td>0.332421</td>\n",
       "    </tr>\n",
       "    <tr>\n",
       "      <th>1543</th>\n",
       "      <td>ID00419637202311204720264</td>\n",
       "      <td>-9</td>\n",
       "      <td>3020</td>\n",
       "      <td>70.186855</td>\n",
       "      <td>73</td>\n",
       "      <td>Male</td>\n",
       "      <td>Ex-smoker</td>\n",
       "      <td>test</td>\n",
       "      <td>100.0</td>\n",
       "      <td>ID00419637202311204720264_-9</td>\n",
       "      <td>...</td>\n",
       "      <td>-15.0</td>\n",
       "      <td>1</td>\n",
       "      <td>0</td>\n",
       "      <td>1</td>\n",
       "      <td>0</td>\n",
       "      <td>0</td>\n",
       "      <td>0.615385</td>\n",
       "      <td>0.3724</td>\n",
       "      <td>0.086420</td>\n",
       "      <td>0.332421</td>\n",
       "    </tr>\n",
       "    <tr>\n",
       "      <th>1544</th>\n",
       "      <td>ID00419637202311204720264</td>\n",
       "      <td>-8</td>\n",
       "      <td>3020</td>\n",
       "      <td>70.186855</td>\n",
       "      <td>73</td>\n",
       "      <td>Male</td>\n",
       "      <td>Ex-smoker</td>\n",
       "      <td>test</td>\n",
       "      <td>100.0</td>\n",
       "      <td>ID00419637202311204720264_-8</td>\n",
       "      <td>...</td>\n",
       "      <td>-14.0</td>\n",
       "      <td>1</td>\n",
       "      <td>0</td>\n",
       "      <td>1</td>\n",
       "      <td>0</td>\n",
       "      <td>0</td>\n",
       "      <td>0.615385</td>\n",
       "      <td>0.3724</td>\n",
       "      <td>0.092593</td>\n",
       "      <td>0.332421</td>\n",
       "    </tr>\n",
       "  </tbody>\n",
       "</table>\n",
       "<p>5 rows × 22 columns</p>\n",
       "</div>"
      ],
      "text/plain": [
       "                        Patient  Weeks   FVC    Percent  Age   Sex  \\\n",
       "1540  ID00419637202311204720264    -12  3020  70.186855   73  Male   \n",
       "1541  ID00419637202311204720264    -11  3020  70.186855   73  Male   \n",
       "1542  ID00419637202311204720264    -10  3020  70.186855   73  Male   \n",
       "1543  ID00419637202311204720264     -9  3020  70.186855   73  Male   \n",
       "1544  ID00419637202311204720264     -8  3020  70.186855   73  Male   \n",
       "\n",
       "     SmokingStatus WHERE  Confidence                   Patient_Week  ...  \\\n",
       "1540     Ex-smoker  test       100.0  ID00419637202311204720264_-12  ...   \n",
       "1541     Ex-smoker  test       100.0  ID00419637202311204720264_-11  ...   \n",
       "1542     Ex-smoker  test       100.0  ID00419637202311204720264_-10  ...   \n",
       "1543     Ex-smoker  test       100.0   ID00419637202311204720264_-9  ...   \n",
       "1544     Ex-smoker  test       100.0   ID00419637202311204720264_-8  ...   \n",
       "\n",
       "      base_week  Male  Female  Ex-smoker  Never smoked  Currently smokes  \\\n",
       "1540      -18.0     1       0          1             0                 0   \n",
       "1541      -17.0     1       0          1             0                 0   \n",
       "1542      -16.0     1       0          1             0                 0   \n",
       "1543      -15.0     1       0          1             0                 0   \n",
       "1544      -14.0     1       0          1             0                 0   \n",
       "\n",
       "           age    BASE      week   percent  \n",
       "1540  0.615385  0.3724  0.067901  0.332421  \n",
       "1541  0.615385  0.3724  0.074074  0.332421  \n",
       "1542  0.615385  0.3724  0.080247  0.332421  \n",
       "1543  0.615385  0.3724  0.086420  0.332421  \n",
       "1544  0.615385  0.3724  0.092593  0.332421  \n",
       "\n",
       "[5 rows x 22 columns]"
      ]
     },
     "execution_count": 43,
     "metadata": {},
     "output_type": "execute_result"
    }
   ],
   "source": [
    "sub.head()"
   ]
  },
  {
   "cell_type": "code",
   "execution_count": 44,
   "metadata": {
    "execution": {
     "iopub.execute_input": "2020-12-05T12:36:52.723133Z",
     "iopub.status.busy": "2020-12-05T12:36:52.722200Z",
     "iopub.status.idle": "2020-12-05T12:36:52.752732Z",
     "shell.execute_reply": "2020-12-05T12:36:52.753405Z"
    },
    "papermill": {
     "duration": 0.153624,
     "end_time": "2020-12-05T12:36:52.753572",
     "exception": false,
     "start_time": "2020-12-05T12:36:52.599948",
     "status": "completed"
    },
    "tags": []
   },
   "outputs": [
    {
     "name": "stderr",
     "output_type": "stream",
     "text": [
      "/opt/conda/lib/python3.7/site-packages/ipykernel_launcher.py:2: SettingWithCopyWarning: \n",
      "A value is trying to be set on a copy of a slice from a DataFrame.\n",
      "Try using .loc[row_indexer,col_indexer] = value instead\n",
      "\n",
      "See the caveats in the documentation: https://pandas.pydata.org/pandas-docs/stable/user_guide/indexing.html#returning-a-view-versus-a-copy\n",
      "  \n",
      "/opt/conda/lib/python3.7/site-packages/ipykernel_launcher.py:3: SettingWithCopyWarning: \n",
      "A value is trying to be set on a copy of a slice from a DataFrame.\n",
      "Try using .loc[row_indexer,col_indexer] = value instead\n",
      "\n",
      "See the caveats in the documentation: https://pandas.pydata.org/pandas-docs/stable/user_guide/indexing.html#returning-a-view-versus-a-copy\n",
      "  This is separate from the ipykernel package so we can avoid doing imports until\n"
     ]
    },
    {
     "data": {
      "text/html": [
       "<div>\n",
       "<style scoped>\n",
       "    .dataframe tbody tr th:only-of-type {\n",
       "        vertical-align: middle;\n",
       "    }\n",
       "\n",
       "    .dataframe tbody tr th {\n",
       "        vertical-align: top;\n",
       "    }\n",
       "\n",
       "    .dataframe thead th {\n",
       "        text-align: right;\n",
       "    }\n",
       "</style>\n",
       "<table border=\"1\" class=\"dataframe\">\n",
       "  <thead>\n",
       "    <tr style=\"text-align: right;\">\n",
       "      <th></th>\n",
       "      <th>Patient_Week</th>\n",
       "      <th>FVC</th>\n",
       "      <th>Confidence</th>\n",
       "      <th>FVC1</th>\n",
       "      <th>Confidence1</th>\n",
       "    </tr>\n",
       "  </thead>\n",
       "  <tbody>\n",
       "    <tr>\n",
       "      <th>1540</th>\n",
       "      <td>ID00419637202311204720264_-12</td>\n",
       "      <td>3020</td>\n",
       "      <td>100.0</td>\n",
       "      <td>3048.271851</td>\n",
       "      <td>211.014282</td>\n",
       "    </tr>\n",
       "    <tr>\n",
       "      <th>1541</th>\n",
       "      <td>ID00419637202311204720264_-11</td>\n",
       "      <td>3020</td>\n",
       "      <td>100.0</td>\n",
       "      <td>3044.119751</td>\n",
       "      <td>213.448853</td>\n",
       "    </tr>\n",
       "    <tr>\n",
       "      <th>1542</th>\n",
       "      <td>ID00419637202311204720264_-10</td>\n",
       "      <td>3020</td>\n",
       "      <td>100.0</td>\n",
       "      <td>3039.967163</td>\n",
       "      <td>215.883179</td>\n",
       "    </tr>\n",
       "    <tr>\n",
       "      <th>1543</th>\n",
       "      <td>ID00419637202311204720264_-9</td>\n",
       "      <td>3020</td>\n",
       "      <td>100.0</td>\n",
       "      <td>3035.814941</td>\n",
       "      <td>218.317505</td>\n",
       "    </tr>\n",
       "    <tr>\n",
       "      <th>1544</th>\n",
       "      <td>ID00419637202311204720264_-8</td>\n",
       "      <td>3020</td>\n",
       "      <td>100.0</td>\n",
       "      <td>3031.662842</td>\n",
       "      <td>220.751831</td>\n",
       "    </tr>\n",
       "  </tbody>\n",
       "</table>\n",
       "</div>"
      ],
      "text/plain": [
       "                       Patient_Week   FVC  Confidence         FVC1  \\\n",
       "1540  ID00419637202311204720264_-12  3020       100.0  3048.271851   \n",
       "1541  ID00419637202311204720264_-11  3020       100.0  3044.119751   \n",
       "1542  ID00419637202311204720264_-10  3020       100.0  3039.967163   \n",
       "1543   ID00419637202311204720264_-9  3020       100.0  3035.814941   \n",
       "1544   ID00419637202311204720264_-8  3020       100.0  3031.662842   \n",
       "\n",
       "      Confidence1  \n",
       "1540   211.014282  \n",
       "1541   213.448853  \n",
       "1542   215.883179  \n",
       "1543   218.317505  \n",
       "1544   220.751831  "
      ]
     },
     "execution_count": 44,
     "metadata": {},
     "output_type": "execute_result"
    }
   ],
   "source": [
    "# PREDICTION\n",
    "sub['FVC1'] = 1.*pe[:, 1]\n",
    "sub['Confidence1'] = pe[:, 2] - pe[:, 0]\n",
    "subm = sub[['Patient_Week','FVC','Confidence','FVC1','Confidence1']].copy()\n",
    "yo=subm.loc[~subm.FVC1.isnull()]\n",
    "subm.loc[~subm.FVC1.isnull()].head()"
   ]
  },
  {
   "cell_type": "code",
   "execution_count": 45,
   "metadata": {
    "execution": {
     "iopub.execute_input": "2020-12-05T12:36:53.008209Z",
     "iopub.status.busy": "2020-12-05T12:36:53.007386Z",
     "iopub.status.idle": "2020-12-05T12:36:53.020395Z",
     "shell.execute_reply": "2020-12-05T12:36:53.021448Z"
    },
    "papermill": {
     "duration": 0.139156,
     "end_time": "2020-12-05T12:36:53.021635",
     "exception": false,
     "start_time": "2020-12-05T12:36:52.882479",
     "status": "completed"
    },
    "tags": []
   },
   "outputs": [],
   "source": [
    "subm.loc[~subm.FVC1.isnull(),'FVC'] = subm.loc[~subm.FVC1.isnull(),'FVC1']\n",
    "sigma_mean = 60\n",
    "if sigma_mean<sigma_mean:\n",
    "    subm['Confidence'] = sigma_opt\n",
    "else:\n",
    "    subm.loc[~subm.FVC1.isnull(),'Confidence'] = subm.loc[~subm.FVC1.isnull(),'Confidence1']"
   ]
  },
  {
   "cell_type": "code",
   "execution_count": 46,
   "metadata": {
    "execution": {
     "iopub.execute_input": "2020-12-05T12:36:53.267665Z",
     "iopub.status.busy": "2020-12-05T12:36:53.266857Z",
     "iopub.status.idle": "2020-12-05T12:36:53.274135Z",
     "shell.execute_reply": "2020-12-05T12:36:53.275164Z"
    },
    "papermill": {
     "duration": 0.136061,
     "end_time": "2020-12-05T12:36:53.275337",
     "exception": false,
     "start_time": "2020-12-05T12:36:53.139276",
     "status": "completed"
    },
    "tags": []
   },
   "outputs": [
    {
     "data": {
      "text/html": [
       "<div>\n",
       "<style scoped>\n",
       "    .dataframe tbody tr th:only-of-type {\n",
       "        vertical-align: middle;\n",
       "    }\n",
       "\n",
       "    .dataframe tbody tr th {\n",
       "        vertical-align: top;\n",
       "    }\n",
       "\n",
       "    .dataframe thead th {\n",
       "        text-align: right;\n",
       "    }\n",
       "</style>\n",
       "<table border=\"1\" class=\"dataframe\">\n",
       "  <thead>\n",
       "    <tr style=\"text-align: right;\">\n",
       "      <th></th>\n",
       "      <th>Patient_Week</th>\n",
       "      <th>FVC</th>\n",
       "      <th>Confidence</th>\n",
       "      <th>FVC1</th>\n",
       "      <th>Confidence1</th>\n",
       "    </tr>\n",
       "  </thead>\n",
       "  <tbody>\n",
       "    <tr>\n",
       "      <th>1540</th>\n",
       "      <td>ID00419637202311204720264_-12</td>\n",
       "      <td>3048.271851</td>\n",
       "      <td>211.014282</td>\n",
       "      <td>3048.271851</td>\n",
       "      <td>211.014282</td>\n",
       "    </tr>\n",
       "    <tr>\n",
       "      <th>1541</th>\n",
       "      <td>ID00419637202311204720264_-11</td>\n",
       "      <td>3044.119751</td>\n",
       "      <td>213.448853</td>\n",
       "      <td>3044.119751</td>\n",
       "      <td>213.448853</td>\n",
       "    </tr>\n",
       "    <tr>\n",
       "      <th>1542</th>\n",
       "      <td>ID00419637202311204720264_-10</td>\n",
       "      <td>3039.967163</td>\n",
       "      <td>215.883179</td>\n",
       "      <td>3039.967163</td>\n",
       "      <td>215.883179</td>\n",
       "    </tr>\n",
       "    <tr>\n",
       "      <th>1543</th>\n",
       "      <td>ID00419637202311204720264_-9</td>\n",
       "      <td>3035.814941</td>\n",
       "      <td>218.317505</td>\n",
       "      <td>3035.814941</td>\n",
       "      <td>218.317505</td>\n",
       "    </tr>\n",
       "    <tr>\n",
       "      <th>1544</th>\n",
       "      <td>ID00419637202311204720264_-8</td>\n",
       "      <td>3031.662842</td>\n",
       "      <td>220.751831</td>\n",
       "      <td>3031.662842</td>\n",
       "      <td>220.751831</td>\n",
       "    </tr>\n",
       "  </tbody>\n",
       "</table>\n",
       "</div>"
      ],
      "text/plain": [
       "                       Patient_Week          FVC  Confidence         FVC1  \\\n",
       "1540  ID00419637202311204720264_-12  3048.271851  211.014282  3048.271851   \n",
       "1541  ID00419637202311204720264_-11  3044.119751  213.448853  3044.119751   \n",
       "1542  ID00419637202311204720264_-10  3039.967163  215.883179  3039.967163   \n",
       "1543   ID00419637202311204720264_-9  3035.814941  218.317505  3035.814941   \n",
       "1544   ID00419637202311204720264_-8  3031.662842  220.751831  3031.662842   \n",
       "\n",
       "      Confidence1  \n",
       "1540   211.014282  \n",
       "1541   213.448853  \n",
       "1542   215.883179  \n",
       "1543   218.317505  \n",
       "1544   220.751831  "
      ]
     },
     "execution_count": 46,
     "metadata": {},
     "output_type": "execute_result"
    }
   ],
   "source": [
    "subm.head()"
   ]
  },
  {
   "cell_type": "code",
   "execution_count": 47,
   "metadata": {
    "execution": {
     "iopub.execute_input": "2020-12-05T12:36:53.525993Z",
     "iopub.status.busy": "2020-12-05T12:36:53.524954Z",
     "iopub.status.idle": "2020-12-05T12:36:53.558743Z",
     "shell.execute_reply": "2020-12-05T12:36:53.559687Z"
    },
    "papermill": {
     "duration": 0.167357,
     "end_time": "2020-12-05T12:36:53.559861",
     "exception": false,
     "start_time": "2020-12-05T12:36:53.392504",
     "status": "completed"
    },
    "tags": []
   },
   "outputs": [
    {
     "data": {
      "text/html": [
       "<div>\n",
       "<style scoped>\n",
       "    .dataframe tbody tr th:only-of-type {\n",
       "        vertical-align: middle;\n",
       "    }\n",
       "\n",
       "    .dataframe tbody tr th {\n",
       "        vertical-align: top;\n",
       "    }\n",
       "\n",
       "    .dataframe thead th {\n",
       "        text-align: right;\n",
       "    }\n",
       "</style>\n",
       "<table border=\"1\" class=\"dataframe\">\n",
       "  <thead>\n",
       "    <tr style=\"text-align: right;\">\n",
       "      <th></th>\n",
       "      <th>count</th>\n",
       "      <th>mean</th>\n",
       "      <th>std</th>\n",
       "      <th>min</th>\n",
       "      <th>25%</th>\n",
       "      <th>50%</th>\n",
       "      <th>75%</th>\n",
       "      <th>max</th>\n",
       "    </tr>\n",
       "  </thead>\n",
       "  <tbody>\n",
       "    <tr>\n",
       "      <th>FVC</th>\n",
       "      <td>730.0</td>\n",
       "      <td>2608.833031</td>\n",
       "      <td>425.282760</td>\n",
       "      <td>1756.274658</td>\n",
       "      <td>2466.001373</td>\n",
       "      <td>2687.367920</td>\n",
       "      <td>2897.477203</td>\n",
       "      <td>3366.717407</td>\n",
       "    </tr>\n",
       "    <tr>\n",
       "      <th>Confidence</th>\n",
       "      <td>730.0</td>\n",
       "      <td>324.806948</td>\n",
       "      <td>64.441843</td>\n",
       "      <td>183.135742</td>\n",
       "      <td>280.547180</td>\n",
       "      <td>326.955872</td>\n",
       "      <td>381.889618</td>\n",
       "      <td>430.262207</td>\n",
       "    </tr>\n",
       "    <tr>\n",
       "      <th>FVC1</th>\n",
       "      <td>730.0</td>\n",
       "      <td>2608.833031</td>\n",
       "      <td>425.282760</td>\n",
       "      <td>1756.274658</td>\n",
       "      <td>2466.001373</td>\n",
       "      <td>2687.367920</td>\n",
       "      <td>2897.477203</td>\n",
       "      <td>3366.717407</td>\n",
       "    </tr>\n",
       "    <tr>\n",
       "      <th>Confidence1</th>\n",
       "      <td>730.0</td>\n",
       "      <td>324.806948</td>\n",
       "      <td>64.441843</td>\n",
       "      <td>183.135742</td>\n",
       "      <td>280.547180</td>\n",
       "      <td>326.955872</td>\n",
       "      <td>381.889618</td>\n",
       "      <td>430.262207</td>\n",
       "    </tr>\n",
       "  </tbody>\n",
       "</table>\n",
       "</div>"
      ],
      "text/plain": [
       "             count         mean         std          min          25%  \\\n",
       "FVC          730.0  2608.833031  425.282760  1756.274658  2466.001373   \n",
       "Confidence   730.0   324.806948   64.441843   183.135742   280.547180   \n",
       "FVC1         730.0  2608.833031  425.282760  1756.274658  2466.001373   \n",
       "Confidence1  730.0   324.806948   64.441843   183.135742   280.547180   \n",
       "\n",
       "                     50%          75%          max  \n",
       "FVC          2687.367920  2897.477203  3366.717407  \n",
       "Confidence    326.955872   381.889618   430.262207  \n",
       "FVC1         2687.367920  2897.477203  3366.717407  \n",
       "Confidence1   326.955872   381.889618   430.262207  "
      ]
     },
     "execution_count": 47,
     "metadata": {},
     "output_type": "execute_result"
    }
   ],
   "source": [
    "subm.describe().T"
   ]
  },
  {
   "cell_type": "code",
   "execution_count": 48,
   "metadata": {
    "execution": {
     "iopub.execute_input": "2020-12-05T12:36:53.754339Z",
     "iopub.status.busy": "2020-12-05T12:36:53.742796Z",
     "iopub.status.idle": "2020-12-05T12:36:53.757819Z",
     "shell.execute_reply": "2020-12-05T12:36:53.757292Z"
    },
    "papermill": {
     "duration": 0.117305,
     "end_time": "2020-12-05T12:36:53.757922",
     "exception": false,
     "start_time": "2020-12-05T12:36:53.640617",
     "status": "completed"
    },
    "tags": []
   },
   "outputs": [],
   "source": [
    "otest = pd.read_csv('../input/osic-pulmonary-fibrosis-progression/test.csv')\n",
    "for i in range(len(otest)):\n",
    "    subm.loc[subm['Patient_Week']==otest.Patient[i]+'_'+str(otest.Weeks[i]), 'FVC'] = otest.FVC[i]\n",
    "    subm.loc[subm['Patient_Week']==otest.Patient[i]+'_'+str(otest.Weeks[i]), 'Confidence'] = 0.1"
   ]
  },
  {
   "cell_type": "code",
   "execution_count": 49,
   "metadata": {
    "execution": {
     "iopub.execute_input": "2020-12-05T12:36:53.925642Z",
     "iopub.status.busy": "2020-12-05T12:36:53.924855Z",
     "iopub.status.idle": "2020-12-05T12:36:53.934029Z",
     "shell.execute_reply": "2020-12-05T12:36:53.933492Z"
    },
    "papermill": {
     "duration": 0.095868,
     "end_time": "2020-12-05T12:36:53.934129",
     "exception": false,
     "start_time": "2020-12-05T12:36:53.838261",
     "status": "completed"
    },
    "tags": []
   },
   "outputs": [],
   "source": [
    "subm[[\"Patient_Week\",\"FVC\",\"Confidence\"]].to_csv(\"submission_regression.csv\", index=False)"
   ]
  },
  {
   "cell_type": "code",
   "execution_count": 50,
   "metadata": {
    "execution": {
     "iopub.execute_input": "2020-12-05T12:36:54.102331Z",
     "iopub.status.busy": "2020-12-05T12:36:54.101704Z",
     "iopub.status.idle": "2020-12-05T12:36:54.105638Z",
     "shell.execute_reply": "2020-12-05T12:36:54.105155Z"
    },
    "papermill": {
     "duration": 0.091178,
     "end_time": "2020-12-05T12:36:54.105761",
     "exception": false,
     "start_time": "2020-12-05T12:36:54.014583",
     "status": "completed"
    },
    "tags": []
   },
   "outputs": [],
   "source": [
    "reg_sub = subm[[\"Patient_Week\",\"FVC\",\"Confidence\"]].copy()"
   ]
  },
  {
   "cell_type": "code",
   "execution_count": 51,
   "metadata": {
    "execution": {
     "iopub.execute_input": "2020-12-05T12:36:54.282916Z",
     "iopub.status.busy": "2020-12-05T12:36:54.282286Z",
     "iopub.status.idle": "2020-12-05T12:36:54.288521Z",
     "shell.execute_reply": "2020-12-05T12:36:54.287702Z"
    },
    "papermill": {
     "duration": 0.101936,
     "end_time": "2020-12-05T12:36:54.288621",
     "exception": false,
     "start_time": "2020-12-05T12:36:54.186685",
     "status": "completed"
    },
    "tags": []
   },
   "outputs": [
    {
     "data": {
      "text/html": [
       "<div>\n",
       "<style scoped>\n",
       "    .dataframe tbody tr th:only-of-type {\n",
       "        vertical-align: middle;\n",
       "    }\n",
       "\n",
       "    .dataframe tbody tr th {\n",
       "        vertical-align: top;\n",
       "    }\n",
       "\n",
       "    .dataframe thead th {\n",
       "        text-align: right;\n",
       "    }\n",
       "</style>\n",
       "<table border=\"1\" class=\"dataframe\">\n",
       "  <thead>\n",
       "    <tr style=\"text-align: right;\">\n",
       "      <th></th>\n",
       "      <th>Patient_Week</th>\n",
       "      <th>FVC</th>\n",
       "      <th>Confidence</th>\n",
       "    </tr>\n",
       "  </thead>\n",
       "  <tbody>\n",
       "    <tr>\n",
       "      <th>1540</th>\n",
       "      <td>ID00419637202311204720264_-12</td>\n",
       "      <td>3048.271851</td>\n",
       "      <td>211.014282</td>\n",
       "    </tr>\n",
       "    <tr>\n",
       "      <th>1541</th>\n",
       "      <td>ID00419637202311204720264_-11</td>\n",
       "      <td>3044.119751</td>\n",
       "      <td>213.448853</td>\n",
       "    </tr>\n",
       "    <tr>\n",
       "      <th>1542</th>\n",
       "      <td>ID00419637202311204720264_-10</td>\n",
       "      <td>3039.967163</td>\n",
       "      <td>215.883179</td>\n",
       "    </tr>\n",
       "    <tr>\n",
       "      <th>1543</th>\n",
       "      <td>ID00419637202311204720264_-9</td>\n",
       "      <td>3035.814941</td>\n",
       "      <td>218.317505</td>\n",
       "    </tr>\n",
       "    <tr>\n",
       "      <th>1544</th>\n",
       "      <td>ID00419637202311204720264_-8</td>\n",
       "      <td>3031.662842</td>\n",
       "      <td>220.751831</td>\n",
       "    </tr>\n",
       "    <tr>\n",
       "      <th>...</th>\n",
       "      <td>...</td>\n",
       "      <td>...</td>\n",
       "      <td>...</td>\n",
       "    </tr>\n",
       "    <tr>\n",
       "      <th>2265</th>\n",
       "      <td>ID00426637202313170790466_129</td>\n",
       "      <td>2614.786499</td>\n",
       "      <td>395.980225</td>\n",
       "    </tr>\n",
       "    <tr>\n",
       "      <th>2266</th>\n",
       "      <td>ID00426637202313170790466_130</td>\n",
       "      <td>2614.016968</td>\n",
       "      <td>396.195557</td>\n",
       "    </tr>\n",
       "    <tr>\n",
       "      <th>2267</th>\n",
       "      <td>ID00426637202313170790466_131</td>\n",
       "      <td>2613.248047</td>\n",
       "      <td>396.411133</td>\n",
       "    </tr>\n",
       "    <tr>\n",
       "      <th>2268</th>\n",
       "      <td>ID00426637202313170790466_132</td>\n",
       "      <td>2612.478760</td>\n",
       "      <td>396.626465</td>\n",
       "    </tr>\n",
       "    <tr>\n",
       "      <th>2269</th>\n",
       "      <td>ID00426637202313170790466_133</td>\n",
       "      <td>2611.709351</td>\n",
       "      <td>396.841797</td>\n",
       "    </tr>\n",
       "  </tbody>\n",
       "</table>\n",
       "<p>730 rows × 3 columns</p>\n",
       "</div>"
      ],
      "text/plain": [
       "                       Patient_Week          FVC  Confidence\n",
       "1540  ID00419637202311204720264_-12  3048.271851  211.014282\n",
       "1541  ID00419637202311204720264_-11  3044.119751  213.448853\n",
       "1542  ID00419637202311204720264_-10  3039.967163  215.883179\n",
       "1543   ID00419637202311204720264_-9  3035.814941  218.317505\n",
       "1544   ID00419637202311204720264_-8  3031.662842  220.751831\n",
       "...                             ...          ...         ...\n",
       "2265  ID00426637202313170790466_129  2614.786499  395.980225\n",
       "2266  ID00426637202313170790466_130  2614.016968  396.195557\n",
       "2267  ID00426637202313170790466_131  2613.248047  396.411133\n",
       "2268  ID00426637202313170790466_132  2612.478760  396.626465\n",
       "2269  ID00426637202313170790466_133  2611.709351  396.841797\n",
       "\n",
       "[730 rows x 3 columns]"
      ]
     },
     "execution_count": 51,
     "metadata": {},
     "output_type": "execute_result"
    }
   ],
   "source": [
    "reg_sub"
   ]
  },
  {
   "cell_type": "markdown",
   "metadata": {
    "papermill": {
     "duration": 0.084007,
     "end_time": "2020-12-05T12:36:54.454569",
     "exception": false,
     "start_time": "2020-12-05T12:36:54.370562",
     "status": "completed"
    },
    "tags": []
   },
   "source": [
    "# Ensemble (Simple Blend)"
   ]
  },
  {
   "cell_type": "code",
   "execution_count": 52,
   "metadata": {
    "execution": {
     "iopub.execute_input": "2020-12-05T12:36:54.686811Z",
     "iopub.status.busy": "2020-12-05T12:36:54.685883Z",
     "iopub.status.idle": "2020-12-05T12:36:54.692851Z",
     "shell.execute_reply": "2020-12-05T12:36:54.694114Z"
    },
    "papermill": {
     "duration": 0.14717,
     "end_time": "2020-12-05T12:36:54.694312",
     "exception": false,
     "start_time": "2020-12-05T12:36:54.547142",
     "status": "completed"
    },
    "tags": []
   },
   "outputs": [],
   "source": [
    "df1 = img_sub.sort_values(by=['Patient_Week'], ascending=True).reset_index(drop=True)\n",
    "df2 = reg_sub.sort_values(by=['Patient_Week'], ascending=True).reset_index(drop=True)"
   ]
  },
  {
   "cell_type": "code",
   "execution_count": 53,
   "metadata": {
    "execution": {
     "iopub.execute_input": "2020-12-05T12:36:54.944778Z",
     "iopub.status.busy": "2020-12-05T12:36:54.943909Z",
     "iopub.status.idle": "2020-12-05T12:36:54.953508Z",
     "shell.execute_reply": "2020-12-05T12:36:54.954548Z"
    },
    "papermill": {
     "duration": 0.141676,
     "end_time": "2020-12-05T12:36:54.954734",
     "exception": false,
     "start_time": "2020-12-05T12:36:54.813058",
     "status": "completed"
    },
    "tags": []
   },
   "outputs": [
    {
     "data": {
      "text/html": [
       "<div>\n",
       "<style scoped>\n",
       "    .dataframe tbody tr th:only-of-type {\n",
       "        vertical-align: middle;\n",
       "    }\n",
       "\n",
       "    .dataframe tbody tr th {\n",
       "        vertical-align: top;\n",
       "    }\n",
       "\n",
       "    .dataframe thead th {\n",
       "        text-align: right;\n",
       "    }\n",
       "</style>\n",
       "<table border=\"1\" class=\"dataframe\">\n",
       "  <thead>\n",
       "    <tr style=\"text-align: right;\">\n",
       "      <th></th>\n",
       "      <th>Patient_Week</th>\n",
       "      <th>FVC</th>\n",
       "      <th>Confidence</th>\n",
       "    </tr>\n",
       "  </thead>\n",
       "  <tbody>\n",
       "    <tr>\n",
       "      <th>0</th>\n",
       "      <td>ID00419637202311204720264_-1</td>\n",
       "      <td>3047.188081</td>\n",
       "      <td>97.374936</td>\n",
       "    </tr>\n",
       "    <tr>\n",
       "      <th>1</th>\n",
       "      <td>ID00419637202311204720264_-10</td>\n",
       "      <td>3082.144186</td>\n",
       "      <td>132.331041</td>\n",
       "    </tr>\n",
       "    <tr>\n",
       "      <th>2</th>\n",
       "      <td>ID00419637202311204720264_-11</td>\n",
       "      <td>3086.028198</td>\n",
       "      <td>136.215053</td>\n",
       "    </tr>\n",
       "    <tr>\n",
       "      <th>3</th>\n",
       "      <td>ID00419637202311204720264_-12</td>\n",
       "      <td>3089.912209</td>\n",
       "      <td>140.099064</td>\n",
       "    </tr>\n",
       "    <tr>\n",
       "      <th>4</th>\n",
       "      <td>ID00419637202311204720264_-2</td>\n",
       "      <td>3051.072093</td>\n",
       "      <td>101.258948</td>\n",
       "    </tr>\n",
       "    <tr>\n",
       "      <th>...</th>\n",
       "      <td>...</td>\n",
       "      <td>...</td>\n",
       "      <td>...</td>\n",
       "    </tr>\n",
       "    <tr>\n",
       "      <th>725</th>\n",
       "      <td>ID00426637202313170790466_95</td>\n",
       "      <td>2585.862509</td>\n",
       "      <td>410.962459</td>\n",
       "    </tr>\n",
       "    <tr>\n",
       "      <th>726</th>\n",
       "      <td>ID00426637202313170790466_96</td>\n",
       "      <td>2582.292641</td>\n",
       "      <td>414.532327</td>\n",
       "    </tr>\n",
       "    <tr>\n",
       "      <th>727</th>\n",
       "      <td>ID00426637202313170790466_97</td>\n",
       "      <td>2578.722772</td>\n",
       "      <td>418.102196</td>\n",
       "    </tr>\n",
       "    <tr>\n",
       "      <th>728</th>\n",
       "      <td>ID00426637202313170790466_98</td>\n",
       "      <td>2575.152904</td>\n",
       "      <td>421.672064</td>\n",
       "    </tr>\n",
       "    <tr>\n",
       "      <th>729</th>\n",
       "      <td>ID00426637202313170790466_99</td>\n",
       "      <td>2571.583036</td>\n",
       "      <td>425.241932</td>\n",
       "    </tr>\n",
       "  </tbody>\n",
       "</table>\n",
       "<p>730 rows × 3 columns</p>\n",
       "</div>"
      ],
      "text/plain": [
       "                      Patient_Week          FVC  Confidence\n",
       "0     ID00419637202311204720264_-1  3047.188081   97.374936\n",
       "1    ID00419637202311204720264_-10  3082.144186  132.331041\n",
       "2    ID00419637202311204720264_-11  3086.028198  136.215053\n",
       "3    ID00419637202311204720264_-12  3089.912209  140.099064\n",
       "4     ID00419637202311204720264_-2  3051.072093  101.258948\n",
       "..                             ...          ...         ...\n",
       "725   ID00426637202313170790466_95  2585.862509  410.962459\n",
       "726   ID00426637202313170790466_96  2582.292641  414.532327\n",
       "727   ID00426637202313170790466_97  2578.722772  418.102196\n",
       "728   ID00426637202313170790466_98  2575.152904  421.672064\n",
       "729   ID00426637202313170790466_99  2571.583036  425.241932\n",
       "\n",
       "[730 rows x 3 columns]"
      ]
     },
     "execution_count": 53,
     "metadata": {},
     "output_type": "execute_result"
    }
   ],
   "source": [
    "df1"
   ]
  },
  {
   "cell_type": "code",
   "execution_count": 54,
   "metadata": {
    "execution": {
     "iopub.execute_input": "2020-12-05T12:36:55.202293Z",
     "iopub.status.busy": "2020-12-05T12:36:55.200561Z",
     "iopub.status.idle": "2020-12-05T12:36:55.203099Z",
     "shell.execute_reply": "2020-12-05T12:36:55.203576Z"
    },
    "papermill": {
     "duration": 0.130657,
     "end_time": "2020-12-05T12:36:55.203690",
     "exception": false,
     "start_time": "2020-12-05T12:36:55.073033",
     "status": "completed"
    },
    "tags": []
   },
   "outputs": [],
   "source": [
    "actual=yo[['Patient_Week','FVC']]"
   ]
  },
  {
   "cell_type": "code",
   "execution_count": 55,
   "metadata": {
    "execution": {
     "iopub.execute_input": "2020-12-05T12:36:55.374214Z",
     "iopub.status.busy": "2020-12-05T12:36:55.373452Z",
     "iopub.status.idle": "2020-12-05T12:36:55.376876Z",
     "shell.execute_reply": "2020-12-05T12:36:55.377313Z"
    },
    "papermill": {
     "duration": 0.091619,
     "end_time": "2020-12-05T12:36:55.377431",
     "exception": false,
     "start_time": "2020-12-05T12:36:55.285812",
     "status": "completed"
    },
    "tags": []
   },
   "outputs": [],
   "source": [
    "main=actual.sort_values(by=['Patient_Week'], ascending=True).reset_index(drop=True)"
   ]
  },
  {
   "cell_type": "code",
   "execution_count": 56,
   "metadata": {
    "execution": {
     "iopub.execute_input": "2020-12-05T12:36:55.554138Z",
     "iopub.status.busy": "2020-12-05T12:36:55.553385Z",
     "iopub.status.idle": "2020-12-05T12:36:55.557041Z",
     "shell.execute_reply": "2020-12-05T12:36:55.557507Z"
    },
    "papermill": {
     "duration": 0.09783,
     "end_time": "2020-12-05T12:36:55.557620",
     "exception": false,
     "start_time": "2020-12-05T12:36:55.459790",
     "status": "completed"
    },
    "tags": []
   },
   "outputs": [
    {
     "data": {
      "text/html": [
       "<div>\n",
       "<style scoped>\n",
       "    .dataframe tbody tr th:only-of-type {\n",
       "        vertical-align: middle;\n",
       "    }\n",
       "\n",
       "    .dataframe tbody tr th {\n",
       "        vertical-align: top;\n",
       "    }\n",
       "\n",
       "    .dataframe thead th {\n",
       "        text-align: right;\n",
       "    }\n",
       "</style>\n",
       "<table border=\"1\" class=\"dataframe\">\n",
       "  <thead>\n",
       "    <tr style=\"text-align: right;\">\n",
       "      <th></th>\n",
       "      <th>Patient_Week</th>\n",
       "      <th>FVC</th>\n",
       "    </tr>\n",
       "  </thead>\n",
       "  <tbody>\n",
       "    <tr>\n",
       "      <th>0</th>\n",
       "      <td>ID00419637202311204720264_-1</td>\n",
       "      <td>3020</td>\n",
       "    </tr>\n",
       "    <tr>\n",
       "      <th>1</th>\n",
       "      <td>ID00419637202311204720264_-10</td>\n",
       "      <td>3020</td>\n",
       "    </tr>\n",
       "    <tr>\n",
       "      <th>2</th>\n",
       "      <td>ID00419637202311204720264_-11</td>\n",
       "      <td>3020</td>\n",
       "    </tr>\n",
       "    <tr>\n",
       "      <th>3</th>\n",
       "      <td>ID00419637202311204720264_-12</td>\n",
       "      <td>3020</td>\n",
       "    </tr>\n",
       "    <tr>\n",
       "      <th>4</th>\n",
       "      <td>ID00419637202311204720264_-2</td>\n",
       "      <td>3020</td>\n",
       "    </tr>\n",
       "    <tr>\n",
       "      <th>...</th>\n",
       "      <td>...</td>\n",
       "      <td>...</td>\n",
       "    </tr>\n",
       "    <tr>\n",
       "      <th>725</th>\n",
       "      <td>ID00426637202313170790466_95</td>\n",
       "      <td>2925</td>\n",
       "    </tr>\n",
       "    <tr>\n",
       "      <th>726</th>\n",
       "      <td>ID00426637202313170790466_96</td>\n",
       "      <td>2925</td>\n",
       "    </tr>\n",
       "    <tr>\n",
       "      <th>727</th>\n",
       "      <td>ID00426637202313170790466_97</td>\n",
       "      <td>2925</td>\n",
       "    </tr>\n",
       "    <tr>\n",
       "      <th>728</th>\n",
       "      <td>ID00426637202313170790466_98</td>\n",
       "      <td>2925</td>\n",
       "    </tr>\n",
       "    <tr>\n",
       "      <th>729</th>\n",
       "      <td>ID00426637202313170790466_99</td>\n",
       "      <td>2925</td>\n",
       "    </tr>\n",
       "  </tbody>\n",
       "</table>\n",
       "<p>730 rows × 2 columns</p>\n",
       "</div>"
      ],
      "text/plain": [
       "                      Patient_Week   FVC\n",
       "0     ID00419637202311204720264_-1  3020\n",
       "1    ID00419637202311204720264_-10  3020\n",
       "2    ID00419637202311204720264_-11  3020\n",
       "3    ID00419637202311204720264_-12  3020\n",
       "4     ID00419637202311204720264_-2  3020\n",
       "..                             ...   ...\n",
       "725   ID00426637202313170790466_95  2925\n",
       "726   ID00426637202313170790466_96  2925\n",
       "727   ID00426637202313170790466_97  2925\n",
       "728   ID00426637202313170790466_98  2925\n",
       "729   ID00426637202313170790466_99  2925\n",
       "\n",
       "[730 rows x 2 columns]"
      ]
     },
     "execution_count": 56,
     "metadata": {},
     "output_type": "execute_result"
    }
   ],
   "source": [
    "main"
   ]
  },
  {
   "cell_type": "code",
   "execution_count": null,
   "metadata": {
    "papermill": {
     "duration": 0.091769,
     "end_time": "2020-12-05T12:36:55.732099",
     "exception": false,
     "start_time": "2020-12-05T12:36:55.640330",
     "status": "completed"
    },
    "tags": []
   },
   "outputs": [],
   "source": []
  },
  {
   "cell_type": "code",
   "execution_count": 57,
   "metadata": {
    "execution": {
     "iopub.execute_input": "2020-12-05T12:36:55.918375Z",
     "iopub.status.busy": "2020-12-05T12:36:55.917525Z",
     "iopub.status.idle": "2020-12-05T12:36:55.922704Z",
     "shell.execute_reply": "2020-12-05T12:36:55.922201Z"
    },
    "papermill": {
     "duration": 0.108167,
     "end_time": "2020-12-05T12:36:55.922824",
     "exception": false,
     "start_time": "2020-12-05T12:36:55.814657",
     "status": "completed"
    },
    "tags": []
   },
   "outputs": [
    {
     "data": {
      "text/html": [
       "<div>\n",
       "<style scoped>\n",
       "    .dataframe tbody tr th:only-of-type {\n",
       "        vertical-align: middle;\n",
       "    }\n",
       "\n",
       "    .dataframe tbody tr th {\n",
       "        vertical-align: top;\n",
       "    }\n",
       "\n",
       "    .dataframe thead th {\n",
       "        text-align: right;\n",
       "    }\n",
       "</style>\n",
       "<table border=\"1\" class=\"dataframe\">\n",
       "  <thead>\n",
       "    <tr style=\"text-align: right;\">\n",
       "      <th></th>\n",
       "      <th>Patient_Week</th>\n",
       "      <th>FVC</th>\n",
       "      <th>Confidence</th>\n",
       "    </tr>\n",
       "  </thead>\n",
       "  <tbody>\n",
       "    <tr>\n",
       "      <th>0</th>\n",
       "      <td>ID00419637202311204720264_-1</td>\n",
       "      <td>3022.662810</td>\n",
       "      <td>174.604787</td>\n",
       "    </tr>\n",
       "    <tr>\n",
       "      <th>1</th>\n",
       "      <td>ID00419637202311204720264_-10</td>\n",
       "      <td>3058.946823</td>\n",
       "      <td>178.284717</td>\n",
       "    </tr>\n",
       "    <tr>\n",
       "      <th>2</th>\n",
       "      <td>ID00419637202311204720264_-11</td>\n",
       "      <td>3062.978552</td>\n",
       "      <td>178.693643</td>\n",
       "    </tr>\n",
       "    <tr>\n",
       "      <th>3</th>\n",
       "      <td>ID00419637202311204720264_-12</td>\n",
       "      <td>3067.010012</td>\n",
       "      <td>179.102434</td>\n",
       "    </tr>\n",
       "    <tr>\n",
       "      <th>4</th>\n",
       "      <td>ID00419637202311204720264_-2</td>\n",
       "      <td>3026.694405</td>\n",
       "      <td>175.013579</td>\n",
       "    </tr>\n",
       "    <tr>\n",
       "      <th>...</th>\n",
       "      <td>...</td>\n",
       "      <td>...</td>\n",
       "      <td>...</td>\n",
       "    </tr>\n",
       "    <tr>\n",
       "      <th>725</th>\n",
       "      <td>ID00426637202313170790466_95</td>\n",
       "      <td>2616.168122</td>\n",
       "      <td>398.690486</td>\n",
       "    </tr>\n",
       "    <tr>\n",
       "      <th>726</th>\n",
       "      <td>ID00426637202313170790466_96</td>\n",
       "      <td>2614.125817</td>\n",
       "      <td>400.421267</td>\n",
       "    </tr>\n",
       "    <tr>\n",
       "      <th>727</th>\n",
       "      <td>ID00426637202313170790466_97</td>\n",
       "      <td>2612.096268</td>\n",
       "      <td>402.146074</td>\n",
       "    </tr>\n",
       "    <tr>\n",
       "      <th>728</th>\n",
       "      <td>ID00426637202313170790466_98</td>\n",
       "      <td>2610.066719</td>\n",
       "      <td>403.870880</td>\n",
       "    </tr>\n",
       "    <tr>\n",
       "      <th>729</th>\n",
       "      <td>ID00426637202313170790466_99</td>\n",
       "      <td>2608.037238</td>\n",
       "      <td>405.595753</td>\n",
       "    </tr>\n",
       "  </tbody>\n",
       "</table>\n",
       "<p>730 rows × 3 columns</p>\n",
       "</div>"
      ],
      "text/plain": [
       "                      Patient_Week          FVC  Confidence\n",
       "0     ID00419637202311204720264_-1  3022.662810  174.604787\n",
       "1    ID00419637202311204720264_-10  3058.946823  178.284717\n",
       "2    ID00419637202311204720264_-11  3062.978552  178.693643\n",
       "3    ID00419637202311204720264_-12  3067.010012  179.102434\n",
       "4     ID00419637202311204720264_-2  3026.694405  175.013579\n",
       "..                             ...          ...         ...\n",
       "725   ID00426637202313170790466_95  2616.168122  398.690486\n",
       "726   ID00426637202313170790466_96  2614.125817  400.421267\n",
       "727   ID00426637202313170790466_97  2612.096268  402.146074\n",
       "728   ID00426637202313170790466_98  2610.066719  403.870880\n",
       "729   ID00426637202313170790466_99  2608.037238  405.595753\n",
       "\n",
       "[730 rows x 3 columns]"
      ]
     },
     "execution_count": 57,
     "metadata": {},
     "output_type": "execute_result"
    }
   ],
   "source": [
    "df = df1[['Patient_Week']].copy()\n",
    "df['FVC'] = (0.45*df1['FVC'] + 0.55*df2['FVC'])\n",
    "df['Confidence'] = (0.45*df1['Confidence'] + 0.55*df2['Confidence'])\n",
    "df"
   ]
  },
  {
   "cell_type": "code",
   "execution_count": 58,
   "metadata": {
    "execution": {
     "iopub.execute_input": "2020-12-05T12:36:56.102492Z",
     "iopub.status.busy": "2020-12-05T12:36:56.101248Z",
     "iopub.status.idle": "2020-12-05T12:36:56.110094Z",
     "shell.execute_reply": "2020-12-05T12:36:56.109463Z"
    },
    "papermill": {
     "duration": 0.102154,
     "end_time": "2020-12-05T12:36:56.110195",
     "exception": false,
     "start_time": "2020-12-05T12:36:56.008041",
     "status": "completed"
    },
    "tags": []
   },
   "outputs": [],
   "source": [
    "df.to_csv('submission.csv', index=False)"
   ]
  },
  {
   "cell_type": "code",
   "execution_count": 59,
   "metadata": {
    "execution": {
     "iopub.execute_input": "2020-12-05T12:36:56.286039Z",
     "iopub.status.busy": "2020-12-05T12:36:56.285256Z",
     "iopub.status.idle": "2020-12-05T12:36:56.288827Z",
     "shell.execute_reply": "2020-12-05T12:36:56.289291Z"
    },
    "papermill": {
     "duration": 0.094813,
     "end_time": "2020-12-05T12:36:56.289411",
     "exception": false,
     "start_time": "2020-12-05T12:36:56.194598",
     "status": "completed"
    },
    "tags": []
   },
   "outputs": [
    {
     "data": {
      "text/plain": [
       "0      174.604787\n",
       "1      178.284717\n",
       "2      178.693643\n",
       "3      179.102434\n",
       "4      175.013579\n",
       "          ...    \n",
       "725    398.690486\n",
       "726    400.421267\n",
       "727    402.146074\n",
       "728    403.870880\n",
       "729    405.595753\n",
       "Name: Confidence, Length: 730, dtype: float64"
      ]
     },
     "execution_count": 59,
     "metadata": {},
     "output_type": "execute_result"
    }
   ],
   "source": [
    "df.Confidence"
   ]
  },
  {
   "cell_type": "code",
   "execution_count": 60,
   "metadata": {
    "execution": {
     "iopub.execute_input": "2020-12-05T12:36:56.465260Z",
     "iopub.status.busy": "2020-12-05T12:36:56.464484Z",
     "iopub.status.idle": "2020-12-05T12:36:56.467654Z",
     "shell.execute_reply": "2020-12-05T12:36:56.467186Z"
    },
    "papermill": {
     "duration": 0.093259,
     "end_time": "2020-12-05T12:36:56.467765",
     "exception": false,
     "start_time": "2020-12-05T12:36:56.374506",
     "status": "completed"
    },
    "tags": []
   },
   "outputs": [],
   "source": [
    "def mainscore(actual_fvc, predicted_fvc, confidence, return_values = False):\n",
    "    sd_clipped = np.maximum(confidence, 70)\n",
    "    delta = np.minimum(np.abs(actual_fvc - predicted_fvc), 1000)\n",
    "    metric = - np.sqrt(2) * delta / sd_clipped - np.log(np.sqrt(2) * sd_clipped)\n",
    "\n",
    "    if return_values:\n",
    "        return metric\n",
    "    else:\n",
    "        return np.mean(metric)\n"
   ]
  },
  {
   "cell_type": "code",
   "execution_count": 61,
   "metadata": {
    "execution": {
     "iopub.execute_input": "2020-12-05T12:36:56.644651Z",
     "iopub.status.busy": "2020-12-05T12:36:56.644091Z",
     "iopub.status.idle": "2020-12-05T12:36:56.648490Z",
     "shell.execute_reply": "2020-12-05T12:36:56.648007Z"
    },
    "papermill": {
     "duration": 0.096558,
     "end_time": "2020-12-05T12:36:56.648576",
     "exception": false,
     "start_time": "2020-12-05T12:36:56.552018",
     "status": "completed"
    },
    "tags": []
   },
   "outputs": [],
   "source": [
    "x=mainscore(main['FVC'],df['FVC'],df.Confidence)"
   ]
  },
  {
   "cell_type": "code",
   "execution_count": 62,
   "metadata": {
    "execution": {
     "iopub.execute_input": "2020-12-05T12:36:56.825446Z",
     "iopub.status.busy": "2020-12-05T12:36:56.824223Z",
     "iopub.status.idle": "2020-12-05T12:36:56.828285Z",
     "shell.execute_reply": "2020-12-05T12:36:56.827791Z"
    },
    "papermill": {
     "duration": 0.093899,
     "end_time": "2020-12-05T12:36:56.828377",
     "exception": false,
     "start_time": "2020-12-05T12:36:56.734478",
     "status": "completed"
    },
    "tags": []
   },
   "outputs": [
    {
     "data": {
      "text/plain": [
       "-6.805057150362866"
      ]
     },
     "execution_count": 62,
     "metadata": {},
     "output_type": "execute_result"
    }
   ],
   "source": [
    "x"
   ]
  },
  {
   "cell_type": "code",
   "execution_count": null,
   "metadata": {
    "papermill": {
     "duration": 0.084494,
     "end_time": "2020-12-05T12:36:56.998343",
     "exception": false,
     "start_time": "2020-12-05T12:36:56.913849",
     "status": "completed"
    },
    "tags": []
   },
   "outputs": [],
   "source": [
    "\n"
   ]
  },
  {
   "cell_type": "code",
   "execution_count": null,
   "metadata": {
    "papermill": {
     "duration": 0.084378,
     "end_time": "2020-12-05T12:36:57.168395",
     "exception": false,
     "start_time": "2020-12-05T12:36:57.084017",
     "status": "completed"
    },
    "tags": []
   },
   "outputs": [],
   "source": []
  },
  {
   "cell_type": "code",
   "execution_count": null,
   "metadata": {
    "papermill": {
     "duration": 0.084383,
     "end_time": "2020-12-05T12:36:57.338118",
     "exception": false,
     "start_time": "2020-12-05T12:36:57.253735",
     "status": "completed"
    },
    "tags": []
   },
   "outputs": [],
   "source": []
  },
  {
   "cell_type": "code",
   "execution_count": null,
   "metadata": {
    "papermill": {
     "duration": 0.08461,
     "end_time": "2020-12-05T12:36:57.507677",
     "exception": false,
     "start_time": "2020-12-05T12:36:57.423067",
     "status": "completed"
    },
    "tags": []
   },
   "outputs": [],
   "source": []
  },
  {
   "cell_type": "code",
   "execution_count": null,
   "metadata": {
    "papermill": {
     "duration": 0.085324,
     "end_time": "2020-12-05T12:36:57.677500",
     "exception": false,
     "start_time": "2020-12-05T12:36:57.592176",
     "status": "completed"
    },
    "tags": []
   },
   "outputs": [],
   "source": []
  },
  {
   "cell_type": "code",
   "execution_count": null,
   "metadata": {
    "papermill": {
     "duration": 0.084618,
     "end_time": "2020-12-05T12:36:57.846985",
     "exception": false,
     "start_time": "2020-12-05T12:36:57.762367",
     "status": "completed"
    },
    "tags": []
   },
   "outputs": [],
   "source": []
  },
  {
   "cell_type": "code",
   "execution_count": null,
   "metadata": {
    "papermill": {
     "duration": 0.08442,
     "end_time": "2020-12-05T12:36:58.016802",
     "exception": false,
     "start_time": "2020-12-05T12:36:57.932382",
     "status": "completed"
    },
    "tags": []
   },
   "outputs": [],
   "source": []
  },
  {
   "cell_type": "code",
   "execution_count": null,
   "metadata": {
    "papermill": {
     "duration": 0.085128,
     "end_time": "2020-12-05T12:36:58.186773",
     "exception": false,
     "start_time": "2020-12-05T12:36:58.101645",
     "status": "completed"
    },
    "tags": []
   },
   "outputs": [],
   "source": [
    "      \n",
    "    "
   ]
  },
  {
   "cell_type": "code",
   "execution_count": null,
   "metadata": {
    "papermill": {
     "duration": 0.084667,
     "end_time": "2020-12-05T12:36:58.357270",
     "exception": false,
     "start_time": "2020-12-05T12:36:58.272603",
     "status": "completed"
    },
    "tags": []
   },
   "outputs": [],
   "source": [
    "\n"
   ]
  },
  {
   "cell_type": "code",
   "execution_count": null,
   "metadata": {
    "papermill": {
     "duration": 0.084425,
     "end_time": "2020-12-05T12:36:58.526334",
     "exception": false,
     "start_time": "2020-12-05T12:36:58.441909",
     "status": "completed"
    },
    "tags": []
   },
   "outputs": [],
   "source": []
  },
  {
   "cell_type": "code",
   "execution_count": null,
   "metadata": {
    "papermill": {
     "duration": 0.085098,
     "end_time": "2020-12-05T12:36:58.696176",
     "exception": false,
     "start_time": "2020-12-05T12:36:58.611078",
     "status": "completed"
    },
    "tags": []
   },
   "outputs": [],
   "source": []
  },
  {
   "cell_type": "code",
   "execution_count": null,
   "metadata": {
    "papermill": {
     "duration": 0.08532,
     "end_time": "2020-12-05T12:36:58.866252",
     "exception": false,
     "start_time": "2020-12-05T12:36:58.780932",
     "status": "completed"
    },
    "tags": []
   },
   "outputs": [],
   "source": []
  },
  {
   "cell_type": "code",
   "execution_count": null,
   "metadata": {
    "papermill": {
     "duration": 0.084359,
     "end_time": "2020-12-05T12:36:59.035478",
     "exception": false,
     "start_time": "2020-12-05T12:36:58.951119",
     "status": "completed"
    },
    "tags": []
   },
   "outputs": [],
   "source": []
  },
  {
   "cell_type": "code",
   "execution_count": null,
   "metadata": {
    "papermill": {
     "duration": 0.084778,
     "end_time": "2020-12-05T12:36:59.205840",
     "exception": false,
     "start_time": "2020-12-05T12:36:59.121062",
     "status": "completed"
    },
    "tags": []
   },
   "outputs": [],
   "source": []
  },
  {
   "cell_type": "code",
   "execution_count": null,
   "metadata": {
    "papermill": {
     "duration": 0.084412,
     "end_time": "2020-12-05T12:36:59.375069",
     "exception": false,
     "start_time": "2020-12-05T12:36:59.290657",
     "status": "completed"
    },
    "tags": []
   },
   "outputs": [],
   "source": []
  }
 ],
 "metadata": {
  "kernelspec": {
   "display_name": "Python 3",
   "language": "python",
   "name": "python3"
  },
  "language_info": {
   "codemirror_mode": {
    "name": "ipython",
    "version": 3
   },
   "file_extension": ".py",
   "mimetype": "text/x-python",
   "name": "python",
   "nbconvert_exporter": "python",
   "pygments_lexer": "ipython3",
   "version": "3.7.6"
  },
  "papermill": {
   "duration": 237.029884,
   "end_time": "2020-12-05T12:37:01.206816",
   "environment_variables": {},
   "exception": null,
   "input_path": "__notebook__.ipynb",
   "output_path": "__notebook__.ipynb",
   "parameters": {},
   "start_time": "2020-12-05T12:33:04.176932",
   "version": "2.1.0"
  },
  "widgets": {
   "application/vnd.jupyter.widget-state+json": {
    "state": {
     "030ba72eee4e46ff9723988a59511734": {
      "model_module": "@jupyter-widgets/base",
      "model_module_version": "1.2.0",
      "model_name": "LayoutModel",
      "state": {
       "_model_module": "@jupyter-widgets/base",
       "_model_module_version": "1.2.0",
       "_model_name": "LayoutModel",
       "_view_count": null,
       "_view_module": "@jupyter-widgets/base",
       "_view_module_version": "1.2.0",
       "_view_name": "LayoutView",
       "align_content": null,
       "align_items": null,
       "align_self": null,
       "border": null,
       "bottom": null,
       "display": null,
       "flex": null,
       "flex_flow": null,
       "grid_area": null,
       "grid_auto_columns": null,
       "grid_auto_flow": null,
       "grid_auto_rows": null,
       "grid_column": null,
       "grid_gap": null,
       "grid_row": null,
       "grid_template_areas": null,
       "grid_template_columns": null,
       "grid_template_rows": null,
       "height": null,
       "justify_content": null,
       "justify_items": null,
       "left": null,
       "margin": null,
       "max_height": null,
       "max_width": null,
       "min_height": null,
       "min_width": null,
       "object_fit": null,
       "object_position": null,
       "order": null,
       "overflow": null,
       "overflow_x": null,
       "overflow_y": null,
       "padding": null,
       "right": null,
       "top": null,
       "visibility": null,
       "width": null
      }
     },
     "1d2009e9d1fe430c8963f04e1aad941c": {
      "model_module": "@jupyter-widgets/controls",
      "model_module_version": "1.5.0",
      "model_name": "FloatProgressModel",
      "state": {
       "_dom_classes": [],
       "_model_module": "@jupyter-widgets/controls",
       "_model_module_version": "1.5.0",
       "_model_name": "FloatProgressModel",
       "_view_count": null,
       "_view_module": "@jupyter-widgets/controls",
       "_view_module_version": "1.5.0",
       "_view_name": "ProgressView",
       "bar_style": "success",
       "description": "",
       "description_tooltip": null,
       "layout": "IPY_MODEL_030ba72eee4e46ff9723988a59511734",
       "max": 1.0,
       "min": 0.0,
       "orientation": "horizontal",
       "style": "IPY_MODEL_560ff395f2c6469683568124bc2f780c",
       "value": 1.0
      }
     },
     "1dce37ef487a40ab93d3bf7a760ddbfe": {
      "model_module": "@jupyter-widgets/base",
      "model_module_version": "1.2.0",
      "model_name": "LayoutModel",
      "state": {
       "_model_module": "@jupyter-widgets/base",
       "_model_module_version": "1.2.0",
       "_model_name": "LayoutModel",
       "_view_count": null,
       "_view_module": "@jupyter-widgets/base",
       "_view_module_version": "1.2.0",
       "_view_name": "LayoutView",
       "align_content": null,
       "align_items": null,
       "align_self": null,
       "border": null,
       "bottom": null,
       "display": null,
       "flex": null,
       "flex_flow": null,
       "grid_area": null,
       "grid_auto_columns": null,
       "grid_auto_flow": null,
       "grid_auto_rows": null,
       "grid_column": null,
       "grid_gap": null,
       "grid_row": null,
       "grid_template_areas": null,
       "grid_template_columns": null,
       "grid_template_rows": null,
       "height": null,
       "justify_content": null,
       "justify_items": null,
       "left": null,
       "margin": null,
       "max_height": null,
       "max_width": null,
       "min_height": null,
       "min_width": null,
       "object_fit": null,
       "object_position": null,
       "order": null,
       "overflow": null,
       "overflow_x": null,
       "overflow_y": null,
       "padding": null,
       "right": null,
       "top": null,
       "visibility": null,
       "width": null
      }
     },
     "52fc3b4fcdbb497689703d02c669df97": {
      "model_module": "@jupyter-widgets/controls",
      "model_module_version": "1.5.0",
      "model_name": "HBoxModel",
      "state": {
       "_dom_classes": [],
       "_model_module": "@jupyter-widgets/controls",
       "_model_module_version": "1.5.0",
       "_model_name": "HBoxModel",
       "_view_count": null,
       "_view_module": "@jupyter-widgets/controls",
       "_view_module_version": "1.5.0",
       "_view_name": "HBoxView",
       "box_style": "",
       "children": [
        "IPY_MODEL_1d2009e9d1fe430c8963f04e1aad941c",
        "IPY_MODEL_70f816c570f041d8b30270a1f3005e33"
       ],
       "layout": "IPY_MODEL_1dce37ef487a40ab93d3bf7a760ddbfe"
      }
     },
     "560ff395f2c6469683568124bc2f780c": {
      "model_module": "@jupyter-widgets/controls",
      "model_module_version": "1.5.0",
      "model_name": "ProgressStyleModel",
      "state": {
       "_model_module": "@jupyter-widgets/controls",
       "_model_module_version": "1.5.0",
       "_model_name": "ProgressStyleModel",
       "_view_count": null,
       "_view_module": "@jupyter-widgets/base",
       "_view_module_version": "1.2.0",
       "_view_name": "StyleView",
       "bar_color": null,
       "description_width": "initial"
      }
     },
     "70f816c570f041d8b30270a1f3005e33": {
      "model_module": "@jupyter-widgets/controls",
      "model_module_version": "1.5.0",
      "model_name": "HTMLModel",
      "state": {
       "_dom_classes": [],
       "_model_module": "@jupyter-widgets/controls",
       "_model_module_version": "1.5.0",
       "_model_name": "HTMLModel",
       "_view_count": null,
       "_view_module": "@jupyter-widgets/controls",
       "_view_module_version": "1.5.0",
       "_view_name": "HTMLView",
       "description": "",
       "description_tooltip": null,
       "layout": "IPY_MODEL_91c3f3ae87b649aaae3af0149d4022b7",
       "placeholder": "​",
       "style": "IPY_MODEL_ec3074fb7b3e43348d45f52bddecd8e6",
       "value": " 176/? [00:01&lt;00:00, 109.32it/s]"
      }
     },
     "91c3f3ae87b649aaae3af0149d4022b7": {
      "model_module": "@jupyter-widgets/base",
      "model_module_version": "1.2.0",
      "model_name": "LayoutModel",
      "state": {
       "_model_module": "@jupyter-widgets/base",
       "_model_module_version": "1.2.0",
       "_model_name": "LayoutModel",
       "_view_count": null,
       "_view_module": "@jupyter-widgets/base",
       "_view_module_version": "1.2.0",
       "_view_name": "LayoutView",
       "align_content": null,
       "align_items": null,
       "align_self": null,
       "border": null,
       "bottom": null,
       "display": null,
       "flex": null,
       "flex_flow": null,
       "grid_area": null,
       "grid_auto_columns": null,
       "grid_auto_flow": null,
       "grid_auto_rows": null,
       "grid_column": null,
       "grid_gap": null,
       "grid_row": null,
       "grid_template_areas": null,
       "grid_template_columns": null,
       "grid_template_rows": null,
       "height": null,
       "justify_content": null,
       "justify_items": null,
       "left": null,
       "margin": null,
       "max_height": null,
       "max_width": null,
       "min_height": null,
       "min_width": null,
       "object_fit": null,
       "object_position": null,
       "order": null,
       "overflow": null,
       "overflow_x": null,
       "overflow_y": null,
       "padding": null,
       "right": null,
       "top": null,
       "visibility": null,
       "width": null
      }
     },
     "ec3074fb7b3e43348d45f52bddecd8e6": {
      "model_module": "@jupyter-widgets/controls",
      "model_module_version": "1.5.0",
      "model_name": "DescriptionStyleModel",
      "state": {
       "_model_module": "@jupyter-widgets/controls",
       "_model_module_version": "1.5.0",
       "_model_name": "DescriptionStyleModel",
       "_view_count": null,
       "_view_module": "@jupyter-widgets/base",
       "_view_module_version": "1.2.0",
       "_view_name": "StyleView",
       "description_width": ""
      }
     }
    },
    "version_major": 2,
    "version_minor": 0
   }
  }
 },
 "nbformat": 4,
 "nbformat_minor": 4
}
